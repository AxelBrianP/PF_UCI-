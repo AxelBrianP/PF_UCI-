{
  "nbformat": 4,
  "nbformat_minor": 0,
  "metadata": {
    "colab": {
      "provenance": [],
      "authorship_tag": "ABX9TyOBZgO98cGEgUJuC6D+sSGh",
      "include_colab_link": true
    },
    "kernelspec": {
      "name": "python3",
      "display_name": "Python 3"
    },
    "language_info": {
      "name": "python"
    }
  },
  "cells": [
    {
      "cell_type": "markdown",
      "metadata": {
        "id": "view-in-github",
        "colab_type": "text"
      },
      "source": [
        "<a href=\"https://colab.research.google.com/github/espadaone/PF_UCI-/blob/main/Analisis_tablas_6_10.ipynb\" target=\"_parent\"><img src=\"https://colab.research.google.com/assets/colab-badge.svg\" alt=\"Open In Colab\"/></a>"
      ]
    },
    {
      "cell_type": "code",
      "execution_count": 1,
      "metadata": {
        "colab": {
          "base_uri": "https://localhost:8080/"
        },
        "id": "lXZO8SEUKvUp",
        "outputId": "c6e3c998-438e-42aa-c8f3-30453a80fe6a"
      },
      "outputs": [
        {
          "output_type": "stream",
          "name": "stdout",
          "text": [
            "Mounted at /content/drive\n"
          ]
        }
      ],
      "source": [
        "from google.colab import drive  # Vinculamos google colab con google drive para importar el dataset\n",
        "drive.mount('/content/drive')"
      ]
    },
    {
      "cell_type": "code",
      "source": [
        "# Importamos librerias\n",
        "import pandas as pd         \n",
        "import missingno as msno  "
      ],
      "metadata": {
        "id": "ySKfx2QlLQDB"
      },
      "execution_count": 2,
      "outputs": []
    },
    {
      "cell_type": "code",
      "source": [
        "# Cargamos los datasets y guardamos en una variable para trabajarlos\n",
        "df_caregivers = pd.read_csv('/content/drive/MyDrive/Formación/Henry/PF UCI/dataset/CAREGIVERS.csv', sep=',', encoding='latin-1')\n",
        "df_chartevents = pd.read_csv('/content/drive/MyDrive/Formación/Henry/PF UCI/dataset/CHARTEVENTS.csv', sep=',', encoding='latin-1')\n",
        "df_datetimeevents = pd.read_csv('/content/drive/MyDrive/Formación/Henry/PF UCI/dataset/DATETIMEEVENTS.csv', sep=',', encoding='latin-1')\n",
        "df_inputevents_cv = pd.read_csv('/content/drive/MyDrive/Formación/Henry/PF UCI/dataset/INPUTEVENTS_CV.csv', sep=',', encoding='latin-1')\n",
        "df_transfers = pd.read_csv('/content/drive/MyDrive/Formación/Henry/PF UCI/dataset/TRANSFERS.csv', sep=',', encoding='latin-1')"
      ],
      "metadata": {
        "colab": {
          "base_uri": "https://localhost:8080/"
        },
        "id": "8ZvhGNo0LPAf",
        "outputId": "39ba08db-8349-4bc1-e600-f0f1a1195f1f"
      },
      "execution_count": 3,
      "outputs": [
        {
          "output_type": "stream",
          "name": "stderr",
          "text": [
            "/usr/local/lib/python3.8/dist-packages/IPython/core/interactiveshell.py:3326: DtypeWarning: Columns (8,10,13,14) have mixed types.Specify dtype option on import or set low_memory=False.\n",
            "  exec(code_obj, self.user_global_ns, self.user_ns)\n",
            "/usr/local/lib/python3.8/dist-packages/IPython/core/interactiveshell.py:3326: DtypeWarning: Columns (17,20,21) have mixed types.Specify dtype option on import or set low_memory=False.\n",
            "  exec(code_obj, self.user_global_ns, self.user_ns)\n"
          ]
        }
      ]
    },
    {
      "cell_type": "markdown",
      "source": [
        "# Analisis de datasets"
      ],
      "metadata": {
        "id": "ESyTDa_BNeii"
      }
    },
    {
      "cell_type": "markdown",
      "source": [
        "## Tabla 'TRANSFERS' o 'translados'\n",
        "\n",
        "+ Descripción de la tabla: Traslado de pacientes de una cama a otra dentro del hospital"
      ],
      "metadata": {
        "id": "o6HpwDIbuiqY"
      }
    },
    {
      "cell_type": "code",
      "source": [
        "df_transfers.head(3)   # Mostramos las primeras filas"
      ],
      "metadata": {
        "colab": {
          "base_uri": "https://localhost:8080/",
          "height": 143
        },
        "id": "C6tNkxL7vDRr",
        "outputId": "569d96e5-9f36-4fb4-cfa2-77591f16754c"
      },
      "execution_count": 33,
      "outputs": [
        {
          "output_type": "execute_result",
          "data": {
            "text/plain": [
              "   row_id  subject_id  hadm_id  icustay_id dbsource  eventtype prev_careunit  \\\n",
              "0   54440       10006   142345    206504.0  carevue      admit           NaN   \n",
              "1   54441       10006   142345         NaN  carevue   transfer          MICU   \n",
              "2   54442       10006   142345         NaN  carevue  discharge           NaN   \n",
              "\n",
              "  curr_careunit  prev_wardid  curr_wardid               intime  \\\n",
              "0          MICU          NaN         52.0  2164-10-23 21:10:15   \n",
              "1           NaN         52.0         45.0  2164-10-25 12:21:07   \n",
              "2           NaN         45.0          NaN  2164-11-01 17:14:27   \n",
              "\n",
              "               outtime     los  \n",
              "0  2164-10-25 12:21:07   39.18  \n",
              "1  2164-11-01 17:14:27  172.89  \n",
              "2                  NaN     NaN  "
            ],
            "text/html": [
              "\n",
              "  <div id=\"df-d71af753-9bb4-4be8-ac9a-3f3dc12f14ad\">\n",
              "    <div class=\"colab-df-container\">\n",
              "      <div>\n",
              "<style scoped>\n",
              "    .dataframe tbody tr th:only-of-type {\n",
              "        vertical-align: middle;\n",
              "    }\n",
              "\n",
              "    .dataframe tbody tr th {\n",
              "        vertical-align: top;\n",
              "    }\n",
              "\n",
              "    .dataframe thead th {\n",
              "        text-align: right;\n",
              "    }\n",
              "</style>\n",
              "<table border=\"1\" class=\"dataframe\">\n",
              "  <thead>\n",
              "    <tr style=\"text-align: right;\">\n",
              "      <th></th>\n",
              "      <th>row_id</th>\n",
              "      <th>subject_id</th>\n",
              "      <th>hadm_id</th>\n",
              "      <th>icustay_id</th>\n",
              "      <th>dbsource</th>\n",
              "      <th>eventtype</th>\n",
              "      <th>prev_careunit</th>\n",
              "      <th>curr_careunit</th>\n",
              "      <th>prev_wardid</th>\n",
              "      <th>curr_wardid</th>\n",
              "      <th>intime</th>\n",
              "      <th>outtime</th>\n",
              "      <th>los</th>\n",
              "    </tr>\n",
              "  </thead>\n",
              "  <tbody>\n",
              "    <tr>\n",
              "      <th>0</th>\n",
              "      <td>54440</td>\n",
              "      <td>10006</td>\n",
              "      <td>142345</td>\n",
              "      <td>206504.0</td>\n",
              "      <td>carevue</td>\n",
              "      <td>admit</td>\n",
              "      <td>NaN</td>\n",
              "      <td>MICU</td>\n",
              "      <td>NaN</td>\n",
              "      <td>52.0</td>\n",
              "      <td>2164-10-23 21:10:15</td>\n",
              "      <td>2164-10-25 12:21:07</td>\n",
              "      <td>39.18</td>\n",
              "    </tr>\n",
              "    <tr>\n",
              "      <th>1</th>\n",
              "      <td>54441</td>\n",
              "      <td>10006</td>\n",
              "      <td>142345</td>\n",
              "      <td>NaN</td>\n",
              "      <td>carevue</td>\n",
              "      <td>transfer</td>\n",
              "      <td>MICU</td>\n",
              "      <td>NaN</td>\n",
              "      <td>52.0</td>\n",
              "      <td>45.0</td>\n",
              "      <td>2164-10-25 12:21:07</td>\n",
              "      <td>2164-11-01 17:14:27</td>\n",
              "      <td>172.89</td>\n",
              "    </tr>\n",
              "    <tr>\n",
              "      <th>2</th>\n",
              "      <td>54442</td>\n",
              "      <td>10006</td>\n",
              "      <td>142345</td>\n",
              "      <td>NaN</td>\n",
              "      <td>carevue</td>\n",
              "      <td>discharge</td>\n",
              "      <td>NaN</td>\n",
              "      <td>NaN</td>\n",
              "      <td>45.0</td>\n",
              "      <td>NaN</td>\n",
              "      <td>2164-11-01 17:14:27</td>\n",
              "      <td>NaN</td>\n",
              "      <td>NaN</td>\n",
              "    </tr>\n",
              "  </tbody>\n",
              "</table>\n",
              "</div>\n",
              "      <button class=\"colab-df-convert\" onclick=\"convertToInteractive('df-d71af753-9bb4-4be8-ac9a-3f3dc12f14ad')\"\n",
              "              title=\"Convert this dataframe to an interactive table.\"\n",
              "              style=\"display:none;\">\n",
              "        \n",
              "  <svg xmlns=\"http://www.w3.org/2000/svg\" height=\"24px\"viewBox=\"0 0 24 24\"\n",
              "       width=\"24px\">\n",
              "    <path d=\"M0 0h24v24H0V0z\" fill=\"none\"/>\n",
              "    <path d=\"M18.56 5.44l.94 2.06.94-2.06 2.06-.94-2.06-.94-.94-2.06-.94 2.06-2.06.94zm-11 1L8.5 8.5l.94-2.06 2.06-.94-2.06-.94L8.5 2.5l-.94 2.06-2.06.94zm10 10l.94 2.06.94-2.06 2.06-.94-2.06-.94-.94-2.06-.94 2.06-2.06.94z\"/><path d=\"M17.41 7.96l-1.37-1.37c-.4-.4-.92-.59-1.43-.59-.52 0-1.04.2-1.43.59L10.3 9.45l-7.72 7.72c-.78.78-.78 2.05 0 2.83L4 21.41c.39.39.9.59 1.41.59.51 0 1.02-.2 1.41-.59l7.78-7.78 2.81-2.81c.8-.78.8-2.07 0-2.86zM5.41 20L4 18.59l7.72-7.72 1.47 1.35L5.41 20z\"/>\n",
              "  </svg>\n",
              "      </button>\n",
              "      \n",
              "  <style>\n",
              "    .colab-df-container {\n",
              "      display:flex;\n",
              "      flex-wrap:wrap;\n",
              "      gap: 12px;\n",
              "    }\n",
              "\n",
              "    .colab-df-convert {\n",
              "      background-color: #E8F0FE;\n",
              "      border: none;\n",
              "      border-radius: 50%;\n",
              "      cursor: pointer;\n",
              "      display: none;\n",
              "      fill: #1967D2;\n",
              "      height: 32px;\n",
              "      padding: 0 0 0 0;\n",
              "      width: 32px;\n",
              "    }\n",
              "\n",
              "    .colab-df-convert:hover {\n",
              "      background-color: #E2EBFA;\n",
              "      box-shadow: 0px 1px 2px rgba(60, 64, 67, 0.3), 0px 1px 3px 1px rgba(60, 64, 67, 0.15);\n",
              "      fill: #174EA6;\n",
              "    }\n",
              "\n",
              "    [theme=dark] .colab-df-convert {\n",
              "      background-color: #3B4455;\n",
              "      fill: #D2E3FC;\n",
              "    }\n",
              "\n",
              "    [theme=dark] .colab-df-convert:hover {\n",
              "      background-color: #434B5C;\n",
              "      box-shadow: 0px 1px 3px 1px rgba(0, 0, 0, 0.15);\n",
              "      filter: drop-shadow(0px 1px 2px rgba(0, 0, 0, 0.3));\n",
              "      fill: #FFFFFF;\n",
              "    }\n",
              "  </style>\n",
              "\n",
              "      <script>\n",
              "        const buttonEl =\n",
              "          document.querySelector('#df-d71af753-9bb4-4be8-ac9a-3f3dc12f14ad button.colab-df-convert');\n",
              "        buttonEl.style.display =\n",
              "          google.colab.kernel.accessAllowed ? 'block' : 'none';\n",
              "\n",
              "        async function convertToInteractive(key) {\n",
              "          const element = document.querySelector('#df-d71af753-9bb4-4be8-ac9a-3f3dc12f14ad');\n",
              "          const dataTable =\n",
              "            await google.colab.kernel.invokeFunction('convertToInteractive',\n",
              "                                                     [key], {});\n",
              "          if (!dataTable) return;\n",
              "\n",
              "          const docLinkHtml = 'Like what you see? Visit the ' +\n",
              "            '<a target=\"_blank\" href=https://colab.research.google.com/notebooks/data_table.ipynb>data table notebook</a>'\n",
              "            + ' to learn more about interactive tables.';\n",
              "          element.innerHTML = '';\n",
              "          dataTable['output_type'] = 'display_data';\n",
              "          await google.colab.output.renderOutput(dataTable, element);\n",
              "          const docLink = document.createElement('div');\n",
              "          docLink.innerHTML = docLinkHtml;\n",
              "          element.appendChild(docLink);\n",
              "        }\n",
              "      </script>\n",
              "    </div>\n",
              "  </div>\n",
              "  "
            ]
          },
          "metadata": {},
          "execution_count": 33
        }
      ]
    },
    {
      "cell_type": "markdown",
      "source": [
        "Campos:\n",
        "\n",
        "+ *row_id*: id de fila\n",
        "+ *subject_id*: id de paciente (a confirmar)\n",
        "+ *hadm_id*: no se\n",
        "+ *icustay_id*: id de custodio o persona a cargo del paciente (a confirmar)\n",
        "+ *dbsource*: fuente de datos (ej: carevue es un sistema de monitoreo de pacientes)\n",
        "+ *eventtype*: tipo de evento.\n",
        "+ *prev_careunit*: unidad de cuidado previo\n",
        "+ *curr_careunit*: unidad de cuidado actual o de destino\n",
        "+ *prev_wardid*: id de pabellón previo\n",
        "+ *curr_wardid*: id de pabellón actual o de destino\n",
        "+ *intime*: hora y fecha de ingreso\n",
        "+ *outtime*: hora y fecha de salida\n",
        "+ *los*: diferencia entre tiempo de entrada y salida.\n"
      ],
      "metadata": {
        "id": "ZDAXvtoF0PVI"
      }
    },
    {
      "cell_type": "code",
      "source": [
        "print(\"Valores únicos por cada columna: \\n\")\n",
        "\n",
        "print(\"row_id:\", df_transfers['row_id'].nunique() )\n",
        "print(\"subject_id:\", df_transfers['subject_id'].nunique() )\n",
        "print(\"hadm_id:\", df_transfers['hadm_id'].nunique() )\n",
        "print(\"icustay_id:\", df_transfers['icustay_id'].nunique() )\n",
        "print(\"dbsource:\", df_transfers['dbsource'].nunique() )\n",
        "print(\"eventtype:\", df_transfers['eventtype'].nunique() )\n",
        "print(\"prev_careunit:\", df_transfers['prev_careunit'].nunique() )\n",
        "print(\"curr_careunit:\", df_transfers['curr_careunit'].nunique() )\n",
        "print(\"prev_wardid:\", df_transfers['prev_wardid'].nunique() )\n",
        "print(\"curr_wardid:\", df_transfers['curr_wardid'].nunique() )\n",
        "print(\"intime:\", df_transfers['intime'].nunique() )\n",
        "print(\"outtime:\", df_transfers['outtime'].nunique() )\n",
        "print(\"los:\", df_transfers['los'].nunique() )"
      ],
      "metadata": {
        "colab": {
          "base_uri": "https://localhost:8080/"
        },
        "id": "h2JUayBW7dYZ",
        "outputId": "9759f285-2aae-492d-a40f-2d0767f3c660"
      },
      "execution_count": 9,
      "outputs": [
        {
          "output_type": "stream",
          "name": "stdout",
          "text": [
            "Valores únicos por cada columna: \n",
            "\n",
            "row_id: 524\n",
            "subject_id: 100\n",
            "hadm_id: 129\n",
            "icustay_id: 136\n",
            "dbsource: 2\n",
            "eventtype: 3\n",
            "prev_careunit: 5\n",
            "curr_careunit: 5\n",
            "prev_wardid: 28\n",
            "curr_wardid: 28\n",
            "intime: 524\n",
            "outtime: 395\n",
            "los: 380\n"
          ]
        }
      ]
    },
    {
      "cell_type": "code",
      "source": [
        "df_transfers.info()  # Cant de registros, columnas, espacio en memoria, tipo de dato"
      ],
      "metadata": {
        "colab": {
          "base_uri": "https://localhost:8080/"
        },
        "id": "HiXIkiO7vX9z",
        "outputId": "2835fbce-7630-4b15-d6e7-4da3e21338da"
      },
      "execution_count": 34,
      "outputs": [
        {
          "output_type": "stream",
          "name": "stdout",
          "text": [
            "<class 'pandas.core.frame.DataFrame'>\n",
            "RangeIndex: 524 entries, 0 to 523\n",
            "Data columns (total 13 columns):\n",
            " #   Column         Non-Null Count  Dtype  \n",
            "---  ------         --------------  -----  \n",
            " 0   row_id         524 non-null    int64  \n",
            " 1   subject_id     524 non-null    int64  \n",
            " 2   hadm_id        524 non-null    int64  \n",
            " 3   icustay_id     167 non-null    float64\n",
            " 4   dbsource       524 non-null    object \n",
            " 5   eventtype      524 non-null    object \n",
            " 6   prev_careunit  167 non-null    object \n",
            " 7   curr_careunit  167 non-null    object \n",
            " 8   prev_wardid    395 non-null    float64\n",
            " 9   curr_wardid    395 non-null    float64\n",
            " 10  intime         524 non-null    object \n",
            " 11  outtime        395 non-null    object \n",
            " 12  los            395 non-null    float64\n",
            "dtypes: float64(4), int64(3), object(6)\n",
            "memory usage: 53.3+ KB\n"
          ]
        }
      ]
    },
    {
      "cell_type": "code",
      "source": [
        "df_transfers.drop_duplicates(inplace=True)   # Eliminamos registros duplicados\n",
        "df_transfers.shape[0]"
      ],
      "metadata": {
        "colab": {
          "base_uri": "https://localhost:8080/"
        },
        "id": "nrp018yNvd5f",
        "outputId": "eb108e21-8089-42eb-a8ff-0dccabdbd3c1"
      },
      "execution_count": 35,
      "outputs": [
        {
          "output_type": "execute_result",
          "data": {
            "text/plain": [
              "524"
            ]
          },
          "metadata": {},
          "execution_count": 35
        }
      ]
    },
    {
      "cell_type": "markdown",
      "source": [
        "No tenia registros duplicados"
      ],
      "metadata": {
        "id": "ioOf-_ufvk8j"
      }
    },
    {
      "cell_type": "code",
      "source": [
        "df_transfers.isna().sum()  # Valores nulos"
      ],
      "metadata": {
        "colab": {
          "base_uri": "https://localhost:8080/"
        },
        "id": "75Z5VvnsvtWW",
        "outputId": "71456f08-cca4-4780-8beb-833ee7bfe7e9"
      },
      "execution_count": 37,
      "outputs": [
        {
          "output_type": "execute_result",
          "data": {
            "text/plain": [
              "row_id             0\n",
              "subject_id         0\n",
              "hadm_id            0\n",
              "icustay_id       357\n",
              "dbsource           0\n",
              "eventtype          0\n",
              "prev_careunit    357\n",
              "curr_careunit    357\n",
              "prev_wardid      129\n",
              "curr_wardid      129\n",
              "intime             0\n",
              "outtime          129\n",
              "los              129\n",
              "dtype: int64"
            ]
          },
          "metadata": {},
          "execution_count": 37
        }
      ]
    },
    {
      "cell_type": "code",
      "source": [
        "msno.matrix(df_transfers)  # Valores nulos visto gráficamente"
      ],
      "metadata": {
        "colab": {
          "base_uri": "https://localhost:8080/",
          "height": 699
        },
        "id": "C0jZhygKvzWA",
        "outputId": "e0f85947-d97d-4ecf-d622-af71a99226f9"
      },
      "execution_count": 38,
      "outputs": [
        {
          "output_type": "execute_result",
          "data": {
            "text/plain": [
              "<AxesSubplot:>"
            ]
          },
          "metadata": {},
          "execution_count": 38
        },
        {
          "output_type": "display_data",
          "data": {
            "text/plain": [
              "<Figure size 1800x720 with 2 Axes>"
            ],
            "image/png": "[encoded data removed]"
          },
          "metadata": {
            "needs_background": "light"
          }
        }
      ]
    },
    {
      "cell_type": "markdown",
      "source": [
        "Valores nulos:"
      ],
      "metadata": {
        "id": "uTn2QklFx1bX"
      }
    },
    {
      "cell_type": "markdown",
      "source": [
        "## Tabla 'CAREGIVERS' o 'cuidadores'\n",
        "\n",
        "+ Descripcion de la tabla: Cada cuidador que haya registrado datos"
      ],
      "metadata": {
        "id": "1Z8Eb9PFNnA3"
      }
    },
    {
      "cell_type": "code",
      "source": [
        "df_caregivers.head(3)   # Mostramos las primeras filas"
      ],
      "metadata": {
        "colab": {
          "base_uri": "https://localhost:8080/",
          "height": 143
        },
        "id": "fAaMaovRNO21",
        "outputId": "a7274684-46a8-46fe-b7ca-215e2ba7eeb6"
      },
      "execution_count": 5,
      "outputs": [
        {
          "output_type": "execute_result",
          "data": {
            "text/plain": [
              "   row_id   cgid label            description\n",
              "0    2228  16174    RO              Read Only\n",
              "1    2229  16175    RO              Read Only\n",
              "2    2230  16176   Res  Resident/Fellow/PA/NP"
            ],
            "text/html": [
              "\n",
              "  <div id=\"df-8eb71b53-dc22-466d-a7d1-523807aaa750\">\n",
              "    <div class=\"colab-df-container\">\n",
              "      <div>\n",
              "<style scoped>\n",
              "    .dataframe tbody tr th:only-of-type {\n",
              "        vertical-align: middle;\n",
              "    }\n",
              "\n",
              "    .dataframe tbody tr th {\n",
              "        vertical-align: top;\n",
              "    }\n",
              "\n",
              "    .dataframe thead th {\n",
              "        text-align: right;\n",
              "    }\n",
              "</style>\n",
              "<table border=\"1\" class=\"dataframe\">\n",
              "  <thead>\n",
              "    <tr style=\"text-align: right;\">\n",
              "      <th></th>\n",
              "      <th>row_id</th>\n",
              "      <th>cgid</th>\n",
              "      <th>label</th>\n",
              "      <th>description</th>\n",
              "    </tr>\n",
              "  </thead>\n",
              "  <tbody>\n",
              "    <tr>\n",
              "      <th>0</th>\n",
              "      <td>2228</td>\n",
              "      <td>16174</td>\n",
              "      <td>RO</td>\n",
              "      <td>Read Only</td>\n",
              "    </tr>\n",
              "    <tr>\n",
              "      <th>1</th>\n",
              "      <td>2229</td>\n",
              "      <td>16175</td>\n",
              "      <td>RO</td>\n",
              "      <td>Read Only</td>\n",
              "    </tr>\n",
              "    <tr>\n",
              "      <th>2</th>\n",
              "      <td>2230</td>\n",
              "      <td>16176</td>\n",
              "      <td>Res</td>\n",
              "      <td>Resident/Fellow/PA/NP</td>\n",
              "    </tr>\n",
              "  </tbody>\n",
              "</table>\n",
              "</div>\n",
              "      <button class=\"colab-df-convert\" onclick=\"convertToInteractive('df-8eb71b53-dc22-466d-a7d1-523807aaa750')\"\n",
              "              title=\"Convert this dataframe to an interactive table.\"\n",
              "              style=\"display:none;\">\n",
              "        \n",
              "  <svg xmlns=\"http://www.w3.org/2000/svg\" height=\"24px\"viewBox=\"0 0 24 24\"\n",
              "       width=\"24px\">\n",
              "    <path d=\"M0 0h24v24H0V0z\" fill=\"none\"/>\n",
              "    <path d=\"M18.56 5.44l.94 2.06.94-2.06 2.06-.94-2.06-.94-.94-2.06-.94 2.06-2.06.94zm-11 1L8.5 8.5l.94-2.06 2.06-.94-2.06-.94L8.5 2.5l-.94 2.06-2.06.94zm10 10l.94 2.06.94-2.06 2.06-.94-2.06-.94-.94-2.06-.94 2.06-2.06.94z\"/><path d=\"M17.41 7.96l-1.37-1.37c-.4-.4-.92-.59-1.43-.59-.52 0-1.04.2-1.43.59L10.3 9.45l-7.72 7.72c-.78.78-.78 2.05 0 2.83L4 21.41c.39.39.9.59 1.41.59.51 0 1.02-.2 1.41-.59l7.78-7.78 2.81-2.81c.8-.78.8-2.07 0-2.86zM5.41 20L4 18.59l7.72-7.72 1.47 1.35L5.41 20z\"/>\n",
              "  </svg>\n",
              "      </button>\n",
              "      \n",
              "  <style>\n",
              "    .colab-df-container {\n",
              "      display:flex;\n",
              "      flex-wrap:wrap;\n",
              "      gap: 12px;\n",
              "    }\n",
              "\n",
              "    .colab-df-convert {\n",
              "      background-color: #E8F0FE;\n",
              "      border: none;\n",
              "      border-radius: 50%;\n",
              "      cursor: pointer;\n",
              "      display: none;\n",
              "      fill: #1967D2;\n",
              "      height: 32px;\n",
              "      padding: 0 0 0 0;\n",
              "      width: 32px;\n",
              "    }\n",
              "\n",
              "    .colab-df-convert:hover {\n",
              "      background-color: #E2EBFA;\n",
              "      box-shadow: 0px 1px 2px rgba(60, 64, 67, 0.3), 0px 1px 3px 1px rgba(60, 64, 67, 0.15);\n",
              "      fill: #174EA6;\n",
              "    }\n",
              "\n",
              "    [theme=dark] .colab-df-convert {\n",
              "      background-color: #3B4455;\n",
              "      fill: #D2E3FC;\n",
              "    }\n",
              "\n",
              "    [theme=dark] .colab-df-convert:hover {\n",
              "      background-color: #434B5C;\n",
              "      box-shadow: 0px 1px 3px 1px rgba(0, 0, 0, 0.15);\n",
              "      filter: drop-shadow(0px 1px 2px rgba(0, 0, 0, 0.3));\n",
              "      fill: #FFFFFF;\n",
              "    }\n",
              "  </style>\n",
              "\n",
              "      <script>\n",
              "        const buttonEl =\n",
              "          document.querySelector('#df-8eb71b53-dc22-466d-a7d1-523807aaa750 button.colab-df-convert');\n",
              "        buttonEl.style.display =\n",
              "          google.colab.kernel.accessAllowed ? 'block' : 'none';\n",
              "\n",
              "        async function convertToInteractive(key) {\n",
              "          const element = document.querySelector('#df-8eb71b53-dc22-466d-a7d1-523807aaa750');\n",
              "          const dataTable =\n",
              "            await google.colab.kernel.invokeFunction('convertToInteractive',\n",
              "                                                     [key], {});\n",
              "          if (!dataTable) return;\n",
              "\n",
              "          const docLinkHtml = 'Like what you see? Visit the ' +\n",
              "            '<a target=\"_blank\" href=https://colab.research.google.com/notebooks/data_table.ipynb>data table notebook</a>'\n",
              "            + ' to learn more about interactive tables.';\n",
              "          element.innerHTML = '';\n",
              "          dataTable['output_type'] = 'display_data';\n",
              "          await google.colab.output.renderOutput(dataTable, element);\n",
              "          const docLink = document.createElement('div');\n",
              "          docLink.innerHTML = docLinkHtml;\n",
              "          element.appendChild(docLink);\n",
              "        }\n",
              "      </script>\n",
              "    </div>\n",
              "  </div>\n",
              "  "
            ]
          },
          "metadata": {},
          "execution_count": 5
        }
      ]
    },
    {
      "cell_type": "markdown",
      "source": [
        "Campos:\n",
        "\n",
        "+ *row_id*: id de fila\n",
        "+ *cgid*: id del cuidador / enfermero\n",
        "+ *label*: etiqueta de descripcion\n",
        "+ *description*: alcance de responsabilidades (a confirmar)\n"
      ],
      "metadata": {
        "id": "_7NVp45z3Xf4"
      }
    },
    {
      "cell_type": "code",
      "source": [
        "print(\"Valores únicos por cada columna: \\n\")\n",
        "\n",
        "print(\"row_id:\", df_caregivers['row_id'].nunique() )\n",
        "print(\"cgid:\", df_caregivers['cgid'].nunique() )\n",
        "print(\"label:\", df_caregivers['label'].nunique() )\n",
        "print(\"description:\", df_caregivers['description'].nunique() )"
      ],
      "metadata": {
        "colab": {
          "base_uri": "https://localhost:8080/"
        },
        "id": "m-tjwoOPOmOv",
        "outputId": "e6eca2fa-7d51-4300-cd0c-3772c05b1f49"
      },
      "execution_count": 13,
      "outputs": [
        {
          "output_type": "stream",
          "name": "stdout",
          "text": [
            "Valores únicos por cada columna: \n",
            "\n",
            "row_id: 7567\n",
            "cgid: 7567\n",
            "label: 230\n",
            "description: 16\n"
          ]
        }
      ]
    },
    {
      "cell_type": "code",
      "source": [
        "df_caregivers.info()  # Cant de registros, columnas, espacio en memoria, tipo de dato"
      ],
      "metadata": {
        "colab": {
          "base_uri": "https://localhost:8080/"
        },
        "id": "siuzkL11O1U1",
        "outputId": "53b57b7c-f77e-4f5d-8e95-fded3d457db7"
      },
      "execution_count": 14,
      "outputs": [
        {
          "output_type": "stream",
          "name": "stdout",
          "text": [
            "<class 'pandas.core.frame.DataFrame'>\n",
            "RangeIndex: 7567 entries, 0 to 7566\n",
            "Data columns (total 4 columns):\n",
            " #   Column       Non-Null Count  Dtype \n",
            "---  ------       --------------  ----- \n",
            " 0   row_id       7567 non-null   int64 \n",
            " 1   cgid         7567 non-null   int64 \n",
            " 2   label        7518 non-null   object\n",
            " 3   description  5155 non-null   object\n",
            "dtypes: int64(2), object(2)\n",
            "memory usage: 236.6+ KB\n"
          ]
        }
      ]
    },
    {
      "cell_type": "code",
      "source": [
        "df_caregivers.drop_duplicates(inplace=True)   # Eliminamos registros duplicados\n",
        "df_caregivers.shape[0]"
      ],
      "metadata": {
        "colab": {
          "base_uri": "https://localhost:8080/"
        },
        "id": "ULJIBcZmY2Ef",
        "outputId": "d9cc0c5b-26e1-4668-dfa2-9dc00e46b5b9"
      },
      "execution_count": 15,
      "outputs": [
        {
          "output_type": "execute_result",
          "data": {
            "text/plain": [
              "7567"
            ]
          },
          "metadata": {},
          "execution_count": 15
        }
      ]
    },
    {
      "cell_type": "markdown",
      "source": [
        "No tenia registros duplicados"
      ],
      "metadata": {
        "id": "zaRhKyunfmle"
      }
    },
    {
      "cell_type": "code",
      "source": [
        "df_caregivers.isna().sum()  # Valores nulos"
      ],
      "metadata": {
        "colab": {
          "base_uri": "https://localhost:8080/"
        },
        "id": "urEXdqX7QshS",
        "outputId": "a56936d7-f79d-4996-d486-8a016d5931f5"
      },
      "execution_count": 16,
      "outputs": [
        {
          "output_type": "execute_result",
          "data": {
            "text/plain": [
              "row_id            0\n",
              "cgid              0\n",
              "label            49\n",
              "description    2412\n",
              "dtype: int64"
            ]
          },
          "metadata": {},
          "execution_count": 16
        }
      ]
    },
    {
      "cell_type": "code",
      "source": [
        "msno.matrix(df_caregivers)  # Valores nulos visto gráficamente"
      ],
      "metadata": {
        "colab": {
          "base_uri": "https://localhost:8080/",
          "height": 684
        },
        "id": "cvAb2lriabrH",
        "outputId": "ce261dc2-b320-45b3-c44e-2bfe85b6fe9d"
      },
      "execution_count": 17,
      "outputs": [
        {
          "output_type": "execute_result",
          "data": {
            "text/plain": [
              "<AxesSubplot:>"
            ]
          },
          "metadata": {},
          "execution_count": 17
        },
        {
          "output_type": "display_data",
          "data": {
            "text/plain": [
              "<Figure size 1800x720 with 2 Axes>"
            ],
            "image/png": "[encoded data removed]"
          },
          "metadata": {
            "needs_background": "light"
          }
        }
      ]
    },
    {
      "cell_type": "markdown",
      "source": [
        "Valores nulos:\n",
        "\n",
        "+ 'label' : completar con la leyenda 'sin dato' ya que son textos.\n",
        "+ 'description' : completar con la leyenda 'sin dato' ya que son textos."
      ],
      "metadata": {
        "id": "_81V_nIHats2"
      }
    },
    {
      "cell_type": "markdown",
      "source": [
        "## Tabla 'CHARTEVENTS' o '¿gráfico de eventos?'\n",
        "\n",
        "+ Descripción de la tabla: Todas las observaciones de los pacientes"
      ],
      "metadata": {
        "id": "oo1yR5mrclyy"
      }
    },
    {
      "cell_type": "code",
      "source": [
        "df_chartevents.head(3)   # Mostramos las primeras filas"
      ],
      "metadata": {
        "colab": {
          "base_uri": "https://localhost:8080/",
          "height": 143
        },
        "id": "ewFd174mc92h",
        "outputId": "e42c3dd8-d11d-4b7f-ba70-0d39a2460580"
      },
      "execution_count": 17,
      "outputs": [
        {
          "output_type": "execute_result",
          "data": {
            "text/plain": [
              "    row_id  subject_id  hadm_id  icustay_id  itemid            charttime  \\\n",
              "0  5279021       40124   126179    279554.0  223761  2130-02-04 04:00:00   \n",
              "1  5279022       40124   126179    279554.0  224695  2130-02-04 04:25:00   \n",
              "2  5279023       40124   126179    279554.0  220210  2130-02-04 04:30:00   \n",
              "\n",
              "             storetime   cgid      value   valuenum  valueuom  warning  error  \\\n",
              "0  2130-02-04 04:35:00  19085       95.9       95.9        ?F      0.0    0.0   \n",
              "1  2130-02-04 05:55:00  18999  2222221.7  2222221.7     cmH2O      0.0    0.0   \n",
              "2  2130-02-04 04:43:00  21452       15.0       15.0  insp/min      0.0    0.0   \n",
              "\n",
              "  resultstatus stopped  \n",
              "0          NaN     NaN  \n",
              "1          NaN     NaN  \n",
              "2          NaN     NaN  "
            ],
            "text/html": [
              "\n",
              "  <div id=\"df-336c04a7-7f6b-4f29-9fd0-fb58769f3d56\">\n",
              "    <div class=\"colab-df-container\">\n",
              "      <div>\n",
              "<style scoped>\n",
              "    .dataframe tbody tr th:only-of-type {\n",
              "        vertical-align: middle;\n",
              "    }\n",
              "\n",
              "    .dataframe tbody tr th {\n",
              "        vertical-align: top;\n",
              "    }\n",
              "\n",
              "    .dataframe thead th {\n",
              "        text-align: right;\n",
              "    }\n",
              "</style>\n",
              "<table border=\"1\" class=\"dataframe\">\n",
              "  <thead>\n",
              "    <tr style=\"text-align: right;\">\n",
              "      <th></th>\n",
              "      <th>row_id</th>\n",
              "      <th>subject_id</th>\n",
              "      <th>hadm_id</th>\n",
              "      <th>icustay_id</th>\n",
              "      <th>itemid</th>\n",
              "      <th>charttime</th>\n",
              "      <th>storetime</th>\n",
              "      <th>cgid</th>\n",
              "      <th>value</th>\n",
              "      <th>valuenum</th>\n",
              "      <th>valueuom</th>\n",
              "      <th>warning</th>\n",
              "      <th>error</th>\n",
              "      <th>resultstatus</th>\n",
              "      <th>stopped</th>\n",
              "    </tr>\n",
              "  </thead>\n",
              "  <tbody>\n",
              "    <tr>\n",
              "      <th>0</th>\n",
              "      <td>5279021</td>\n",
              "      <td>40124</td>\n",
              "      <td>126179</td>\n",
              "      <td>279554.0</td>\n",
              "      <td>223761</td>\n",
              "      <td>2130-02-04 04:00:00</td>\n",
              "      <td>2130-02-04 04:35:00</td>\n",
              "      <td>19085</td>\n",
              "      <td>95.9</td>\n",
              "      <td>95.9</td>\n",
              "      <td>?F</td>\n",
              "      <td>0.0</td>\n",
              "      <td>0.0</td>\n",
              "      <td>NaN</td>\n",
              "      <td>NaN</td>\n",
              "    </tr>\n",
              "    <tr>\n",
              "      <th>1</th>\n",
              "      <td>5279022</td>\n",
              "      <td>40124</td>\n",
              "      <td>126179</td>\n",
              "      <td>279554.0</td>\n",
              "      <td>224695</td>\n",
              "      <td>2130-02-04 04:25:00</td>\n",
              "      <td>2130-02-04 05:55:00</td>\n",
              "      <td>18999</td>\n",
              "      <td>2222221.7</td>\n",
              "      <td>2222221.7</td>\n",
              "      <td>cmH2O</td>\n",
              "      <td>0.0</td>\n",
              "      <td>0.0</td>\n",
              "      <td>NaN</td>\n",
              "      <td>NaN</td>\n",
              "    </tr>\n",
              "    <tr>\n",
              "      <th>2</th>\n",
              "      <td>5279023</td>\n",
              "      <td>40124</td>\n",
              "      <td>126179</td>\n",
              "      <td>279554.0</td>\n",
              "      <td>220210</td>\n",
              "      <td>2130-02-04 04:30:00</td>\n",
              "      <td>2130-02-04 04:43:00</td>\n",
              "      <td>21452</td>\n",
              "      <td>15.0</td>\n",
              "      <td>15.0</td>\n",
              "      <td>insp/min</td>\n",
              "      <td>0.0</td>\n",
              "      <td>0.0</td>\n",
              "      <td>NaN</td>\n",
              "      <td>NaN</td>\n",
              "    </tr>\n",
              "  </tbody>\n",
              "</table>\n",
              "</div>\n",
              "      <button class=\"colab-df-convert\" onclick=\"convertToInteractive('df-336c04a7-7f6b-4f29-9fd0-fb58769f3d56')\"\n",
              "              title=\"Convert this dataframe to an interactive table.\"\n",
              "              style=\"display:none;\">\n",
              "        \n",
              "  <svg xmlns=\"http://www.w3.org/2000/svg\" height=\"24px\"viewBox=\"0 0 24 24\"\n",
              "       width=\"24px\">\n",
              "    <path d=\"M0 0h24v24H0V0z\" fill=\"none\"/>\n",
              "    <path d=\"M18.56 5.44l.94 2.06.94-2.06 2.06-.94-2.06-.94-.94-2.06-.94 2.06-2.06.94zm-11 1L8.5 8.5l.94-2.06 2.06-.94-2.06-.94L8.5 2.5l-.94 2.06-2.06.94zm10 10l.94 2.06.94-2.06 2.06-.94-2.06-.94-.94-2.06-.94 2.06-2.06.94z\"/><path d=\"M17.41 7.96l-1.37-1.37c-.4-.4-.92-.59-1.43-.59-.52 0-1.04.2-1.43.59L10.3 9.45l-7.72 7.72c-.78.78-.78 2.05 0 2.83L4 21.41c.39.39.9.59 1.41.59.51 0 1.02-.2 1.41-.59l7.78-7.78 2.81-2.81c.8-.78.8-2.07 0-2.86zM5.41 20L4 18.59l7.72-7.72 1.47 1.35L5.41 20z\"/>\n",
              "  </svg>\n",
              "      </button>\n",
              "      \n",
              "  <style>\n",
              "    .colab-df-container {\n",
              "      display:flex;\n",
              "      flex-wrap:wrap;\n",
              "      gap: 12px;\n",
              "    }\n",
              "\n",
              "    .colab-df-convert {\n",
              "      background-color: #E8F0FE;\n",
              "      border: none;\n",
              "      border-radius: 50%;\n",
              "      cursor: pointer;\n",
              "      display: none;\n",
              "      fill: #1967D2;\n",
              "      height: 32px;\n",
              "      padding: 0 0 0 0;\n",
              "      width: 32px;\n",
              "    }\n",
              "\n",
              "    .colab-df-convert:hover {\n",
              "      background-color: #E2EBFA;\n",
              "      box-shadow: 0px 1px 2px rgba(60, 64, 67, 0.3), 0px 1px 3px 1px rgba(60, 64, 67, 0.15);\n",
              "      fill: #174EA6;\n",
              "    }\n",
              "\n",
              "    [theme=dark] .colab-df-convert {\n",
              "      background-color: #3B4455;\n",
              "      fill: #D2E3FC;\n",
              "    }\n",
              "\n",
              "    [theme=dark] .colab-df-convert:hover {\n",
              "      background-color: #434B5C;\n",
              "      box-shadow: 0px 1px 3px 1px rgba(0, 0, 0, 0.15);\n",
              "      filter: drop-shadow(0px 1px 2px rgba(0, 0, 0, 0.3));\n",
              "      fill: #FFFFFF;\n",
              "    }\n",
              "  </style>\n",
              "\n",
              "      <script>\n",
              "        const buttonEl =\n",
              "          document.querySelector('#df-336c04a7-7f6b-4f29-9fd0-fb58769f3d56 button.colab-df-convert');\n",
              "        buttonEl.style.display =\n",
              "          google.colab.kernel.accessAllowed ? 'block' : 'none';\n",
              "\n",
              "        async function convertToInteractive(key) {\n",
              "          const element = document.querySelector('#df-336c04a7-7f6b-4f29-9fd0-fb58769f3d56');\n",
              "          const dataTable =\n",
              "            await google.colab.kernel.invokeFunction('convertToInteractive',\n",
              "                                                     [key], {});\n",
              "          if (!dataTable) return;\n",
              "\n",
              "          const docLinkHtml = 'Like what you see? Visit the ' +\n",
              "            '<a target=\"_blank\" href=https://colab.research.google.com/notebooks/data_table.ipynb>data table notebook</a>'\n",
              "            + ' to learn more about interactive tables.';\n",
              "          element.innerHTML = '';\n",
              "          dataTable['output_type'] = 'display_data';\n",
              "          await google.colab.output.renderOutput(dataTable, element);\n",
              "          const docLink = document.createElement('div');\n",
              "          docLink.innerHTML = docLinkHtml;\n",
              "          element.appendChild(docLink);\n",
              "        }\n",
              "      </script>\n",
              "    </div>\n",
              "  </div>\n",
              "  "
            ]
          },
          "metadata": {},
          "execution_count": 17
        }
      ]
    },
    {
      "cell_type": "markdown",
      "source": [
        "Campos:\n",
        "\n",
        "+ *row_id*: id de fila\n",
        "+ *subject_id*: id de paciente (a confirmar)\n",
        "+ *hadm_id*: no se\n",
        "+\t*icustay_id*:\n",
        "+\t*itemid*:\t\n",
        "+ *charttime*:\n",
        "+\t*storetime*:\n",
        "+\t*cgid*: id del cuidador / enfermero\n",
        "+\t*value*:\n",
        "+\t*valuenum*:\n",
        "+\t*valueuom*:\n",
        "+\t*warning*: valor binario (0 o 1), 1 verdadero y 0 falso\n",
        "+\t*error*: valor binario (0 o 1), 1 verdadero y 0 falso\n",
        "+\t*resultstatus*:\n",
        "+\t*stopped*:"
      ],
      "metadata": {
        "id": "qQrwMhQx31de"
      }
    },
    {
      "cell_type": "code",
      "source": [
        "print(\"Valores únicos por cada columna: \\n\")\n",
        "\n",
        "print(\"row_id:\", df_chartevents['row_id'].nunique() )\n",
        "print(\"subject_id:\", df_chartevents['subject_id'].nunique() )\n",
        "print(\"hadm_id:\", df_chartevents['hadm_id'].nunique() )\n",
        "print(\"icustay_id:\", df_chartevents['icustay_id'].nunique() )\n",
        "print(\"itemid:\", df_chartevents['itemid'].nunique() )\n",
        "print(\"charttime:\", df_chartevents['charttime'].nunique() )\n",
        "print(\"storetime:\", df_chartevents['storetime'].nunique() )\n",
        "print(\"cgid:\", df_chartevents['cgid'].nunique() )\n",
        "print(\"value:\", df_chartevents['value'].nunique() )\n",
        "print(\"valuenum:\", df_chartevents['valuenum'].nunique() )\n",
        "print(\"valueuom:\", df_chartevents['valueuom'].nunique() )\n",
        "print(\"warning:\", df_chartevents['warning'].nunique() )\n",
        "print(\"error:\", df_chartevents['error'].nunique() )\n",
        "print(\"resultstatus:\", df_chartevents['resultstatus'].nunique() )\n",
        "print(\"stopped:\", df_chartevents['stopped'].nunique() )"
      ],
      "metadata": {
        "colab": {
          "base_uri": "https://localhost:8080/"
        },
        "id": "gGNFVuZN-1xg",
        "outputId": "5c95a9f0-f515-41d0-dae5-d48767ae0dcb"
      },
      "execution_count": 18,
      "outputs": [
        {
          "output_type": "stream",
          "name": "stdout",
          "text": [
            "Valores únicos por cada columna: \n",
            "\n",
            "row_id: 758355\n",
            "subject_id: 99\n",
            "hadm_id: 126\n",
            "icustay_id: 133\n",
            "itemid: 1679\n",
            "charttime: 30866\n",
            "storetime: 48532\n",
            "cgid: 592\n",
            "value: 10862\n",
            "valuenum: 8034\n",
            "valueuom: 71\n",
            "warning: 2\n",
            "error: 2\n",
            "resultstatus: 2\n",
            "stopped: 2\n"
          ]
        }
      ]
    },
    {
      "cell_type": "code",
      "source": [
        "df_chartevents.info()  # Cant de registros, columnas, espacio en memoria, tipo de dato"
      ],
      "metadata": {
        "colab": {
          "base_uri": "https://localhost:8080/"
        },
        "id": "c-ZMz2u7elyg",
        "outputId": "a8af18c1-d16f-4249-bc93-b34cb823c4b1"
      },
      "execution_count": 18,
      "outputs": [
        {
          "output_type": "stream",
          "name": "stdout",
          "text": [
            "<class 'pandas.core.frame.DataFrame'>\n",
            "RangeIndex: 758355 entries, 0 to 758354\n",
            "Data columns (total 15 columns):\n",
            " #   Column        Non-Null Count   Dtype  \n",
            "---  ------        --------------   -----  \n",
            " 0   row_id        758355 non-null  int64  \n",
            " 1   subject_id    758355 non-null  int64  \n",
            " 2   hadm_id       758355 non-null  int64  \n",
            " 3   icustay_id    758274 non-null  float64\n",
            " 4   itemid        758355 non-null  int64  \n",
            " 5   charttime     758355 non-null  object \n",
            " 6   storetime     758355 non-null  object \n",
            " 7   cgid          758355 non-null  int64  \n",
            " 8   value         755630 non-null  object \n",
            " 9   valuenum      323884 non-null  float64\n",
            " 10  valueuom      239855 non-null  object \n",
            " 11  warning       382279 non-null  float64\n",
            " 12  error         382279 non-null  float64\n",
            " 13  resultstatus  21674 non-null   object \n",
            " 14  stopped       374649 non-null  object \n",
            "dtypes: float64(4), int64(5), object(6)\n",
            "memory usage: 86.8+ MB\n"
          ]
        }
      ]
    },
    {
      "cell_type": "code",
      "source": [
        "df_chartevents.drop_duplicates(inplace=True)   # Eliminamos registros duplicados\n",
        "df_chartevents.shape[0]"
      ],
      "metadata": {
        "colab": {
          "base_uri": "https://localhost:8080/"
        },
        "id": "NWFDCLP4fSIw",
        "outputId": "94e6b9ec-9832-4bdf-8f1b-176e251c1440"
      },
      "execution_count": 20,
      "outputs": [
        {
          "output_type": "execute_result",
          "data": {
            "text/plain": [
              "758355"
            ]
          },
          "metadata": {},
          "execution_count": 20
        }
      ]
    },
    {
      "cell_type": "markdown",
      "source": [
        "No tenia registros duplicados"
      ],
      "metadata": {
        "id": "uxnjZzvLfgvL"
      }
    },
    {
      "cell_type": "code",
      "source": [
        "df_chartevents.isna().sum()  # Valores nulos"
      ],
      "metadata": {
        "colab": {
          "base_uri": "https://localhost:8080/"
        },
        "id": "XgaqYhR3fgDp",
        "outputId": "fafffc22-e1b4-4c70-a323-ea6ed7efe312"
      },
      "execution_count": 21,
      "outputs": [
        {
          "output_type": "execute_result",
          "data": {
            "text/plain": [
              "row_id               0\n",
              "subject_id           0\n",
              "hadm_id              0\n",
              "icustay_id          81\n",
              "itemid               0\n",
              "charttime            0\n",
              "storetime            0\n",
              "cgid                 0\n",
              "value             2725\n",
              "valuenum        434471\n",
              "valueuom        518500\n",
              "warning         376076\n",
              "error           376076\n",
              "resultstatus    736681\n",
              "stopped         383706\n",
              "dtype: int64"
            ]
          },
          "metadata": {},
          "execution_count": 21
        }
      ]
    },
    {
      "cell_type": "code",
      "source": [
        "msno.matrix(df_chartevents)  # Valores nulos visto gráficamente"
      ],
      "metadata": {
        "colab": {
          "base_uri": "https://localhost:8080/",
          "height": 688
        },
        "id": "0On78eUef8_v",
        "outputId": "948d453e-94f5-48c8-b73e-bb5a3516042a"
      },
      "execution_count": 22,
      "outputs": [
        {
          "output_type": "execute_result",
          "data": {
            "text/plain": [
              "<AxesSubplot:>"
            ]
          },
          "metadata": {},
          "execution_count": 22
        },
        {
          "output_type": "display_data",
          "data": {
            "text/plain": [
              "<Figure size 1800x720 with 2 Axes>"
            ],
            "image/png": "[encoded data removed]"
          },
          "metadata": {
            "needs_background": "light"
          }
        }
      ]
    },
    {
      "cell_type": "markdown",
      "source": [
        "Valores nulos: \n",
        "+ value:\n",
        "+ valuenum:\n",
        "+ valueuom:\n",
        "+ warning: completaria con 0\n",
        "+ error: completaria con 0\n",
        "+ resultstatus:\n",
        "+ stopped:"
      ],
      "metadata": {
        "id": "8u-tyyI6r7sy"
      }
    },
    {
      "cell_type": "markdown",
      "source": [
        "## Tabla 'DATETIMEEVENTS' o 'dia y hora de eventos'\n",
        "\n",
        "+ Descripción de la tabla: Todas las observaciones que sean fechas, la hora de\n",
        "la diálisis etc"
      ],
      "metadata": {
        "id": "LGGVh-ZEgffz"
      }
    },
    {
      "cell_type": "code",
      "source": [
        "df_datetimeevents.head(3)   # Mostramos las primeras filas"
      ],
      "metadata": {
        "colab": {
          "base_uri": "https://localhost:8080/",
          "height": 143
        },
        "id": "htHA5zs0juwU",
        "outputId": "bce6ddbe-0ba7-40e4-b807-29c389973212"
      },
      "execution_count": 23,
      "outputs": [
        {
          "output_type": "execute_result",
          "data": {
            "text/plain": [
              "   row_id  subject_id  hadm_id  icustay_id  itemid            charttime  \\\n",
              "0  208474       10076   198503    201006.0    5684  2107-03-25 04:00:00   \n",
              "1  208475       10076   198503    201006.0    5684  2107-03-25 07:00:00   \n",
              "2  208836       10076   198503    201006.0    5684  2107-03-26 04:00:00   \n",
              "\n",
              "             storetime   cgid                value valueuom  warning  error  \\\n",
              "0  2107-03-25 04:34:00  20482  2107-03-24 00:00:00     Date      NaN    NaN   \n",
              "1  2107-03-25 07:06:00  15004  2107-03-24 00:00:00     Date      NaN    NaN   \n",
              "2  2107-03-26 05:31:00  20834  2107-03-24 00:00:00     Date      NaN    NaN   \n",
              "\n",
              "   resultstatus   stopped  \n",
              "0           NaN  NotStopd  \n",
              "1           NaN  NotStopd  \n",
              "2           NaN  NotStopd  "
            ],
            "text/html": [
              "\n",
              "  <div id=\"df-adf0af2e-1bf0-4845-b266-fccaf04abf7a\">\n",
              "    <div class=\"colab-df-container\">\n",
              "      <div>\n",
              "<style scoped>\n",
              "    .dataframe tbody tr th:only-of-type {\n",
              "        vertical-align: middle;\n",
              "    }\n",
              "\n",
              "    .dataframe tbody tr th {\n",
              "        vertical-align: top;\n",
              "    }\n",
              "\n",
              "    .dataframe thead th {\n",
              "        text-align: right;\n",
              "    }\n",
              "</style>\n",
              "<table border=\"1\" class=\"dataframe\">\n",
              "  <thead>\n",
              "    <tr style=\"text-align: right;\">\n",
              "      <th></th>\n",
              "      <th>row_id</th>\n",
              "      <th>subject_id</th>\n",
              "      <th>hadm_id</th>\n",
              "      <th>icustay_id</th>\n",
              "      <th>itemid</th>\n",
              "      <th>charttime</th>\n",
              "      <th>storetime</th>\n",
              "      <th>cgid</th>\n",
              "      <th>value</th>\n",
              "      <th>valueuom</th>\n",
              "      <th>warning</th>\n",
              "      <th>error</th>\n",
              "      <th>resultstatus</th>\n",
              "      <th>stopped</th>\n",
              "    </tr>\n",
              "  </thead>\n",
              "  <tbody>\n",
              "    <tr>\n",
              "      <th>0</th>\n",
              "      <td>208474</td>\n",
              "      <td>10076</td>\n",
              "      <td>198503</td>\n",
              "      <td>201006.0</td>\n",
              "      <td>5684</td>\n",
              "      <td>2107-03-25 04:00:00</td>\n",
              "      <td>2107-03-25 04:34:00</td>\n",
              "      <td>20482</td>\n",
              "      <td>2107-03-24 00:00:00</td>\n",
              "      <td>Date</td>\n",
              "      <td>NaN</td>\n",
              "      <td>NaN</td>\n",
              "      <td>NaN</td>\n",
              "      <td>NotStopd</td>\n",
              "    </tr>\n",
              "    <tr>\n",
              "      <th>1</th>\n",
              "      <td>208475</td>\n",
              "      <td>10076</td>\n",
              "      <td>198503</td>\n",
              "      <td>201006.0</td>\n",
              "      <td>5684</td>\n",
              "      <td>2107-03-25 07:00:00</td>\n",
              "      <td>2107-03-25 07:06:00</td>\n",
              "      <td>15004</td>\n",
              "      <td>2107-03-24 00:00:00</td>\n",
              "      <td>Date</td>\n",
              "      <td>NaN</td>\n",
              "      <td>NaN</td>\n",
              "      <td>NaN</td>\n",
              "      <td>NotStopd</td>\n",
              "    </tr>\n",
              "    <tr>\n",
              "      <th>2</th>\n",
              "      <td>208836</td>\n",
              "      <td>10076</td>\n",
              "      <td>198503</td>\n",
              "      <td>201006.0</td>\n",
              "      <td>5684</td>\n",
              "      <td>2107-03-26 04:00:00</td>\n",
              "      <td>2107-03-26 05:31:00</td>\n",
              "      <td>20834</td>\n",
              "      <td>2107-03-24 00:00:00</td>\n",
              "      <td>Date</td>\n",
              "      <td>NaN</td>\n",
              "      <td>NaN</td>\n",
              "      <td>NaN</td>\n",
              "      <td>NotStopd</td>\n",
              "    </tr>\n",
              "  </tbody>\n",
              "</table>\n",
              "</div>\n",
              "      <button class=\"colab-df-convert\" onclick=\"convertToInteractive('df-adf0af2e-1bf0-4845-b266-fccaf04abf7a')\"\n",
              "              title=\"Convert this dataframe to an interactive table.\"\n",
              "              style=\"display:none;\">\n",
              "        \n",
              "  <svg xmlns=\"http://www.w3.org/2000/svg\" height=\"24px\"viewBox=\"0 0 24 24\"\n",
              "       width=\"24px\">\n",
              "    <path d=\"M0 0h24v24H0V0z\" fill=\"none\"/>\n",
              "    <path d=\"M18.56 5.44l.94 2.06.94-2.06 2.06-.94-2.06-.94-.94-2.06-.94 2.06-2.06.94zm-11 1L8.5 8.5l.94-2.06 2.06-.94-2.06-.94L8.5 2.5l-.94 2.06-2.06.94zm10 10l.94 2.06.94-2.06 2.06-.94-2.06-.94-.94-2.06-.94 2.06-2.06.94z\"/><path d=\"M17.41 7.96l-1.37-1.37c-.4-.4-.92-.59-1.43-.59-.52 0-1.04.2-1.43.59L10.3 9.45l-7.72 7.72c-.78.78-.78 2.05 0 2.83L4 21.41c.39.39.9.59 1.41.59.51 0 1.02-.2 1.41-.59l7.78-7.78 2.81-2.81c.8-.78.8-2.07 0-2.86zM5.41 20L4 18.59l7.72-7.72 1.47 1.35L5.41 20z\"/>\n",
              "  </svg>\n",
              "      </button>\n",
              "      \n",
              "  <style>\n",
              "    .colab-df-container {\n",
              "      display:flex;\n",
              "      flex-wrap:wrap;\n",
              "      gap: 12px;\n",
              "    }\n",
              "\n",
              "    .colab-df-convert {\n",
              "      background-color: #E8F0FE;\n",
              "      border: none;\n",
              "      border-radius: 50%;\n",
              "      cursor: pointer;\n",
              "      display: none;\n",
              "      fill: #1967D2;\n",
              "      height: 32px;\n",
              "      padding: 0 0 0 0;\n",
              "      width: 32px;\n",
              "    }\n",
              "\n",
              "    .colab-df-convert:hover {\n",
              "      background-color: #E2EBFA;\n",
              "      box-shadow: 0px 1px 2px rgba(60, 64, 67, 0.3), 0px 1px 3px 1px rgba(60, 64, 67, 0.15);\n",
              "      fill: #174EA6;\n",
              "    }\n",
              "\n",
              "    [theme=dark] .colab-df-convert {\n",
              "      background-color: #3B4455;\n",
              "      fill: #D2E3FC;\n",
              "    }\n",
              "\n",
              "    [theme=dark] .colab-df-convert:hover {\n",
              "      background-color: #434B5C;\n",
              "      box-shadow: 0px 1px 3px 1px rgba(0, 0, 0, 0.15);\n",
              "      filter: drop-shadow(0px 1px 2px rgba(0, 0, 0, 0.3));\n",
              "      fill: #FFFFFF;\n",
              "    }\n",
              "  </style>\n",
              "\n",
              "      <script>\n",
              "        const buttonEl =\n",
              "          document.querySelector('#df-adf0af2e-1bf0-4845-b266-fccaf04abf7a button.colab-df-convert');\n",
              "        buttonEl.style.display =\n",
              "          google.colab.kernel.accessAllowed ? 'block' : 'none';\n",
              "\n",
              "        async function convertToInteractive(key) {\n",
              "          const element = document.querySelector('#df-adf0af2e-1bf0-4845-b266-fccaf04abf7a');\n",
              "          const dataTable =\n",
              "            await google.colab.kernel.invokeFunction('convertToInteractive',\n",
              "                                                     [key], {});\n",
              "          if (!dataTable) return;\n",
              "\n",
              "          const docLinkHtml = 'Like what you see? Visit the ' +\n",
              "            '<a target=\"_blank\" href=https://colab.research.google.com/notebooks/data_table.ipynb>data table notebook</a>'\n",
              "            + ' to learn more about interactive tables.';\n",
              "          element.innerHTML = '';\n",
              "          dataTable['output_type'] = 'display_data';\n",
              "          await google.colab.output.renderOutput(dataTable, element);\n",
              "          const docLink = document.createElement('div');\n",
              "          docLink.innerHTML = docLinkHtml;\n",
              "          element.appendChild(docLink);\n",
              "        }\n",
              "      </script>\n",
              "    </div>\n",
              "  </div>\n",
              "  "
            ]
          },
          "metadata": {},
          "execution_count": 23
        }
      ]
    },
    {
      "cell_type": "markdown",
      "source": [
        "Campos:\n",
        "+ row_id: id de fila\n",
        "+ subject_id: id de paciente (a confirmar)\n",
        "+ hadm_id: no se\n",
        "+ icustay_id: id de custodio o persona a cargo del paciente (a confirmar)\n",
        "+ itemid:\t\n",
        "+ charttime:\t\n",
        "+ storetime:\t\n",
        "+ cgid:\t\n",
        "+ value:\t\n",
        "+ valueuom:\t\n",
        "+ warning: valor binario (1 y 0), 1 verdadero y 0 falso\t\n",
        "+ error: valor binario (1 y 0), 1 verdadero y 0 falso\t\n",
        "+ resultstatus:\t\n",
        "+ stopped:"
      ],
      "metadata": {
        "id": "r45H_COJFDfu"
      }
    },
    {
      "cell_type": "code",
      "source": [
        "print(\"Valores únicos por cada columna: \\n\")\n",
        "\n",
        "print(\"row_id:\", df_datetimeevents['row_id'].nunique() )\n",
        "print(\"subject_id:\", df_datetimeevents['subject_id'].nunique() )\n",
        "print(\"hadm_id:\", df_datetimeevents['hadm_id'].nunique() )\n",
        "print(\"icustay_id:\", df_datetimeevents['icustay_id'].nunique() )\n",
        "print(\"itemid:\", df_datetimeevents['itemid'].nunique() )\n",
        "print(\"charttime:\", df_datetimeevents['charttime'].nunique() )\n",
        "print(\"storetime:\", df_datetimeevents['storetime'].nunique() )\n",
        "print(\"cgid:\", df_datetimeevents['cgid'].nunique() )\n",
        "print(\"value:\", df_datetimeevents['value'].nunique() )\n",
        "print(\"valueuom:\", df_datetimeevents['valueuom'].nunique() )\n",
        "print(\"warning:\", df_datetimeevents['warning'].nunique() )\n",
        "print(\"error:\", df_datetimeevents['error'].nunique() )\n",
        "print(\"resultstatus:\", df_datetimeevents['resultstatus'].nunique() )\n",
        "print(\"stopped:\", df_datetimeevents['stopped'].nunique() )"
      ],
      "metadata": {
        "colab": {
          "base_uri": "https://localhost:8080/"
        },
        "id": "Z8f4io1SGirW",
        "outputId": "484e3d8a-1a26-4290-d5c1-8a0f530aae63"
      },
      "execution_count": 24,
      "outputs": [
        {
          "output_type": "stream",
          "name": "stdout",
          "text": [
            "Valores únicos por cada columna: \n",
            "\n",
            "row_id: 15551\n",
            "subject_id: 71\n",
            "hadm_id: 95\n",
            "icustay_id: 102\n",
            "itemid: 80\n",
            "charttime: 3819\n",
            "storetime: 3844\n",
            "cgid: 305\n",
            "value: 944\n",
            "valueuom: 2\n",
            "warning: 1\n",
            "error: 1\n",
            "resultstatus: 0\n",
            "stopped: 2\n"
          ]
        }
      ]
    },
    {
      "cell_type": "code",
      "source": [
        "df_datetimeevents.info()  # Cant de registros, columnas, espacio en memoria, tipo de dato"
      ],
      "metadata": {
        "colab": {
          "base_uri": "https://localhost:8080/"
        },
        "id": "DWsMBbg0j_FY",
        "outputId": "231ff441-4598-4c18-e51b-7806f01016e6"
      },
      "execution_count": 24,
      "outputs": [
        {
          "output_type": "stream",
          "name": "stdout",
          "text": [
            "<class 'pandas.core.frame.DataFrame'>\n",
            "RangeIndex: 15551 entries, 0 to 15550\n",
            "Data columns (total 14 columns):\n",
            " #   Column        Non-Null Count  Dtype  \n",
            "---  ------        --------------  -----  \n",
            " 0   row_id        15551 non-null  int64  \n",
            " 1   subject_id    15551 non-null  int64  \n",
            " 2   hadm_id       15551 non-null  int64  \n",
            " 3   icustay_id    15539 non-null  float64\n",
            " 4   itemid        15551 non-null  int64  \n",
            " 5   charttime     15551 non-null  object \n",
            " 6   storetime     15551 non-null  object \n",
            " 7   cgid          15551 non-null  int64  \n",
            " 8   value         15467 non-null  object \n",
            " 9   valueuom      15551 non-null  object \n",
            " 10  warning       10914 non-null  float64\n",
            " 11  error         10914 non-null  float64\n",
            " 12  resultstatus  0 non-null      float64\n",
            " 13  stopped       4637 non-null   object \n",
            "dtypes: float64(4), int64(5), object(5)\n",
            "memory usage: 1.7+ MB\n"
          ]
        }
      ]
    },
    {
      "cell_type": "code",
      "source": [
        "df_datetimeevents.drop_duplicates(inplace=True)   # Eliminamos registros duplicados\n",
        "df_datetimeevents.shape[0]"
      ],
      "metadata": {
        "colab": {
          "base_uri": "https://localhost:8080/"
        },
        "id": "no_v2j2gkJMi",
        "outputId": "26754db9-6fdc-43a4-8a20-8ab09f2bb169"
      },
      "execution_count": 25,
      "outputs": [
        {
          "output_type": "execute_result",
          "data": {
            "text/plain": [
              "15551"
            ]
          },
          "metadata": {},
          "execution_count": 25
        }
      ]
    },
    {
      "cell_type": "markdown",
      "source": [
        "No tenia registros duplicados"
      ],
      "metadata": {
        "id": "BZfj7T2fkUDA"
      }
    },
    {
      "cell_type": "code",
      "source": [
        "df_datetimeevents.isna().sum()  # Valores nulos"
      ],
      "metadata": {
        "colab": {
          "base_uri": "https://localhost:8080/"
        },
        "id": "S8zbYRutqhcd",
        "outputId": "98d76124-26fd-4e77-dbea-d0857272ce16"
      },
      "execution_count": 26,
      "outputs": [
        {
          "output_type": "execute_result",
          "data": {
            "text/plain": [
              "row_id              0\n",
              "subject_id          0\n",
              "hadm_id             0\n",
              "icustay_id         12\n",
              "itemid              0\n",
              "charttime           0\n",
              "storetime           0\n",
              "cgid                0\n",
              "value              84\n",
              "valueuom            0\n",
              "warning          4637\n",
              "error            4637\n",
              "resultstatus    15551\n",
              "stopped         10914\n",
              "dtype: int64"
            ]
          },
          "metadata": {},
          "execution_count": 26
        }
      ]
    },
    {
      "cell_type": "code",
      "source": [
        "msno.matrix(df_datetimeevents)  # Valores nulos visto gráficamente"
      ],
      "metadata": {
        "colab": {
          "base_uri": "https://localhost:8080/",
          "height": 687
        },
        "id": "FR4nidc-qoqh",
        "outputId": "8b27161e-f7e6-44b9-a59d-f5e4bd371aee"
      },
      "execution_count": 27,
      "outputs": [
        {
          "output_type": "execute_result",
          "data": {
            "text/plain": [
              "<AxesSubplot:>"
            ]
          },
          "metadata": {},
          "execution_count": 27
        },
        {
          "output_type": "display_data",
          "data": {
            "text/plain": [
              "<Figure size 1800x720 with 2 Axes>"
            ],
            "image/png": "[encoded data removed]"
          },
          "metadata": {
            "needs_background": "light"
          }
        }
      ]
    },
    {
      "cell_type": "markdown",
      "source": [
        "### Valores nulos:"
      ],
      "metadata": {
        "id": "1hG-KiEkyZiL"
      }
    },
    {
      "cell_type": "markdown",
      "source": [
        "## Tabla 'INPUTEVENTS_CV' o '¿entrada de eventos cv?'\n",
        "\n",
        "+ Descripción de la tabla: Admision de pacientes monitorizados con el sistema Philips CareVue durante su estadia en la UCI"
      ],
      "metadata": {
        "id": "Czu3GfpMsP0L"
      }
    },
    {
      "cell_type": "code",
      "source": [
        "df_inputevents_cv.head(3)   # Mostramos las primeras filas"
      ],
      "metadata": {
        "colab": {
          "base_uri": "https://localhost:8080/",
          "height": 341
        },
        "id": "9Ps-TBXEtDTC",
        "outputId": "d6e2ce5e-19ee-4a9b-d2e3-5a6d63f0fdb3"
      },
      "execution_count": 28,
      "outputs": [
        {
          "output_type": "execute_result",
          "data": {
            "text/plain": [
              "   row_id  subject_id  hadm_id  icustay_id            charttime  itemid  \\\n",
              "0    1184       10114   167957      234989  2171-11-03 15:00:00   30056   \n",
              "1    1185       10114   167957      234989  2171-11-03 20:00:00   30056   \n",
              "2    1186       10114   167957      234989  2171-11-03 23:00:00   30056   \n",
              "\n",
              "   amount amountuom  rate rateuom  ...  orderid  linkorderid  stopped  \\\n",
              "0   400.0        ml   NaN     NaN  ...  2557279      2557279      NaN   \n",
              "1   120.0        ml   NaN     NaN  ...  7828849      2557279      NaN   \n",
              "2   120.0        ml   NaN     NaN  ...  2744159      2557279      NaN   \n",
              "\n",
              "   newbottle originalamount  originalamountuom  originalroute originalrate  \\\n",
              "0        NaN            NaN                 ml           Oral          NaN   \n",
              "1        NaN            NaN                 ml           Oral          NaN   \n",
              "2        NaN            NaN                 ml           Oral          NaN   \n",
              "\n",
              "  originalrateuom  originalsite  \n",
              "0             NaN           NaN  \n",
              "1             NaN           NaN  \n",
              "2             NaN           NaN  \n",
              "\n",
              "[3 rows x 22 columns]"
            ],
            "text/html": [
              "\n",
              "  <div id=\"df-df870c68-7d1a-4f49-ba0b-9190e6738186\">\n",
              "    <div class=\"colab-df-container\">\n",
              "      <div>\n",
              "<style scoped>\n",
              "    .dataframe tbody tr th:only-of-type {\n",
              "        vertical-align: middle;\n",
              "    }\n",
              "\n",
              "    .dataframe tbody tr th {\n",
              "        vertical-align: top;\n",
              "    }\n",
              "\n",
              "    .dataframe thead th {\n",
              "        text-align: right;\n",
              "    }\n",
              "</style>\n",
              "<table border=\"1\" class=\"dataframe\">\n",
              "  <thead>\n",
              "    <tr style=\"text-align: right;\">\n",
              "      <th></th>\n",
              "      <th>row_id</th>\n",
              "      <th>subject_id</th>\n",
              "      <th>hadm_id</th>\n",
              "      <th>icustay_id</th>\n",
              "      <th>charttime</th>\n",
              "      <th>itemid</th>\n",
              "      <th>amount</th>\n",
              "      <th>amountuom</th>\n",
              "      <th>rate</th>\n",
              "      <th>rateuom</th>\n",
              "      <th>...</th>\n",
              "      <th>orderid</th>\n",
              "      <th>linkorderid</th>\n",
              "      <th>stopped</th>\n",
              "      <th>newbottle</th>\n",
              "      <th>originalamount</th>\n",
              "      <th>originalamountuom</th>\n",
              "      <th>originalroute</th>\n",
              "      <th>originalrate</th>\n",
              "      <th>originalrateuom</th>\n",
              "      <th>originalsite</th>\n",
              "    </tr>\n",
              "  </thead>\n",
              "  <tbody>\n",
              "    <tr>\n",
              "      <th>0</th>\n",
              "      <td>1184</td>\n",
              "      <td>10114</td>\n",
              "      <td>167957</td>\n",
              "      <td>234989</td>\n",
              "      <td>2171-11-03 15:00:00</td>\n",
              "      <td>30056</td>\n",
              "      <td>400.0</td>\n",
              "      <td>ml</td>\n",
              "      <td>NaN</td>\n",
              "      <td>NaN</td>\n",
              "      <td>...</td>\n",
              "      <td>2557279</td>\n",
              "      <td>2557279</td>\n",
              "      <td>NaN</td>\n",
              "      <td>NaN</td>\n",
              "      <td>NaN</td>\n",
              "      <td>ml</td>\n",
              "      <td>Oral</td>\n",
              "      <td>NaN</td>\n",
              "      <td>NaN</td>\n",
              "      <td>NaN</td>\n",
              "    </tr>\n",
              "    <tr>\n",
              "      <th>1</th>\n",
              "      <td>1185</td>\n",
              "      <td>10114</td>\n",
              "      <td>167957</td>\n",
              "      <td>234989</td>\n",
              "      <td>2171-11-03 20:00:00</td>\n",
              "      <td>30056</td>\n",
              "      <td>120.0</td>\n",
              "      <td>ml</td>\n",
              "      <td>NaN</td>\n",
              "      <td>NaN</td>\n",
              "      <td>...</td>\n",
              "      <td>7828849</td>\n",
              "      <td>2557279</td>\n",
              "      <td>NaN</td>\n",
              "      <td>NaN</td>\n",
              "      <td>NaN</td>\n",
              "      <td>ml</td>\n",
              "      <td>Oral</td>\n",
              "      <td>NaN</td>\n",
              "      <td>NaN</td>\n",
              "      <td>NaN</td>\n",
              "    </tr>\n",
              "    <tr>\n",
              "      <th>2</th>\n",
              "      <td>1186</td>\n",
              "      <td>10114</td>\n",
              "      <td>167957</td>\n",
              "      <td>234989</td>\n",
              "      <td>2171-11-03 23:00:00</td>\n",
              "      <td>30056</td>\n",
              "      <td>120.0</td>\n",
              "      <td>ml</td>\n",
              "      <td>NaN</td>\n",
              "      <td>NaN</td>\n",
              "      <td>...</td>\n",
              "      <td>2744159</td>\n",
              "      <td>2557279</td>\n",
              "      <td>NaN</td>\n",
              "      <td>NaN</td>\n",
              "      <td>NaN</td>\n",
              "      <td>ml</td>\n",
              "      <td>Oral</td>\n",
              "      <td>NaN</td>\n",
              "      <td>NaN</td>\n",
              "      <td>NaN</td>\n",
              "    </tr>\n",
              "  </tbody>\n",
              "</table>\n",
              "<p>3 rows × 22 columns</p>\n",
              "</div>\n",
              "      <button class=\"colab-df-convert\" onclick=\"convertToInteractive('df-df870c68-7d1a-4f49-ba0b-9190e6738186')\"\n",
              "              title=\"Convert this dataframe to an interactive table.\"\n",
              "              style=\"display:none;\">\n",
              "        \n",
              "  <svg xmlns=\"http://www.w3.org/2000/svg\" height=\"24px\"viewBox=\"0 0 24 24\"\n",
              "       width=\"24px\">\n",
              "    <path d=\"M0 0h24v24H0V0z\" fill=\"none\"/>\n",
              "    <path d=\"M18.56 5.44l.94 2.06.94-2.06 2.06-.94-2.06-.94-.94-2.06-.94 2.06-2.06.94zm-11 1L8.5 8.5l.94-2.06 2.06-.94-2.06-.94L8.5 2.5l-.94 2.06-2.06.94zm10 10l.94 2.06.94-2.06 2.06-.94-2.06-.94-.94-2.06-.94 2.06-2.06.94z\"/><path d=\"M17.41 7.96l-1.37-1.37c-.4-.4-.92-.59-1.43-.59-.52 0-1.04.2-1.43.59L10.3 9.45l-7.72 7.72c-.78.78-.78 2.05 0 2.83L4 21.41c.39.39.9.59 1.41.59.51 0 1.02-.2 1.41-.59l7.78-7.78 2.81-2.81c.8-.78.8-2.07 0-2.86zM5.41 20L4 18.59l7.72-7.72 1.47 1.35L5.41 20z\"/>\n",
              "  </svg>\n",
              "      </button>\n",
              "      \n",
              "  <style>\n",
              "    .colab-df-container {\n",
              "      display:flex;\n",
              "      flex-wrap:wrap;\n",
              "      gap: 12px;\n",
              "    }\n",
              "\n",
              "    .colab-df-convert {\n",
              "      background-color: #E8F0FE;\n",
              "      border: none;\n",
              "      border-radius: 50%;\n",
              "      cursor: pointer;\n",
              "      display: none;\n",
              "      fill: #1967D2;\n",
              "      height: 32px;\n",
              "      padding: 0 0 0 0;\n",
              "      width: 32px;\n",
              "    }\n",
              "\n",
              "    .colab-df-convert:hover {\n",
              "      background-color: #E2EBFA;\n",
              "      box-shadow: 0px 1px 2px rgba(60, 64, 67, 0.3), 0px 1px 3px 1px rgba(60, 64, 67, 0.15);\n",
              "      fill: #174EA6;\n",
              "    }\n",
              "\n",
              "    [theme=dark] .colab-df-convert {\n",
              "      background-color: #3B4455;\n",
              "      fill: #D2E3FC;\n",
              "    }\n",
              "\n",
              "    [theme=dark] .colab-df-convert:hover {\n",
              "      background-color: #434B5C;\n",
              "      box-shadow: 0px 1px 3px 1px rgba(0, 0, 0, 0.15);\n",
              "      filter: drop-shadow(0px 1px 2px rgba(0, 0, 0, 0.3));\n",
              "      fill: #FFFFFF;\n",
              "    }\n",
              "  </style>\n",
              "\n",
              "      <script>\n",
              "        const buttonEl =\n",
              "          document.querySelector('#df-df870c68-7d1a-4f49-ba0b-9190e6738186 button.colab-df-convert');\n",
              "        buttonEl.style.display =\n",
              "          google.colab.kernel.accessAllowed ? 'block' : 'none';\n",
              "\n",
              "        async function convertToInteractive(key) {\n",
              "          const element = document.querySelector('#df-df870c68-7d1a-4f49-ba0b-9190e6738186');\n",
              "          const dataTable =\n",
              "            await google.colab.kernel.invokeFunction('convertToInteractive',\n",
              "                                                     [key], {});\n",
              "          if (!dataTable) return;\n",
              "\n",
              "          const docLinkHtml = 'Like what you see? Visit the ' +\n",
              "            '<a target=\"_blank\" href=https://colab.research.google.com/notebooks/data_table.ipynb>data table notebook</a>'\n",
              "            + ' to learn more about interactive tables.';\n",
              "          element.innerHTML = '';\n",
              "          dataTable['output_type'] = 'display_data';\n",
              "          await google.colab.output.renderOutput(dataTable, element);\n",
              "          const docLink = document.createElement('div');\n",
              "          docLink.innerHTML = docLinkHtml;\n",
              "          element.appendChild(docLink);\n",
              "        }\n",
              "      </script>\n",
              "    </div>\n",
              "  </div>\n",
              "  "
            ]
          },
          "metadata": {},
          "execution_count": 28
        }
      ]
    },
    {
      "cell_type": "markdown",
      "source": [
        "Campos:\n",
        "+ row_id:\n",
        "+ subject_id:\n",
        "+ hadm_id:\n",
        "+ icustay_id:\n",
        "+ charttime:\n",
        "+ itemid:\n",
        "+ amount:\n",
        "+ amountuom:\n",
        "+ rate:\n",
        "+ rateuom:\n",
        "+ storetime:\n",
        "+ cgid:\n",
        "+ orderid:\n",
        "+ linkorderid:\n",
        "+ stopped:\n",
        "+ newbottle:\n",
        "+ originalamount:\n",
        "+ originalamountuom:\n",
        "+ originalroute:\n",
        "+ originalrate:\n",
        "+ originalrateuom:\n",
        "+ originalsite:"
      ],
      "metadata": {
        "id": "S_ji61MKIE4o"
      }
    },
    {
      "cell_type": "code",
      "source": [
        "print(\"Valores únicos por cada columna: \\n\")\n",
        "\n",
        "print(\"row_id:\", df_inputevents_cv['row_id'].nunique() )\n",
        "print(\"subject_id:\", df_inputevents_cv['subject_id'].nunique() )\n",
        "print(\"hadm_id:\", df_inputevents_cv['hadm_id'].nunique() )\n",
        "print(\"icustay_id:\", df_inputevents_cv['icustay_id'].nunique() )\n",
        "print(\"charttime:\", df_inputevents_cv['charttime'].nunique() )\n",
        "print(\"itemid:\", df_inputevents_cv['itemid'].nunique() )\n",
        "print(\"amount:\", df_inputevents_cv['amount'].nunique() )\n",
        "print(\"amountuom:\", df_inputevents_cv['amountuom'].nunique() )\n",
        "print(\"rate:\", df_inputevents_cv['rate'].nunique() )\n",
        "print(\"rateuom:\", df_inputevents_cv['rateuom'].nunique() )\n",
        "print(\"storetime:\", df_inputevents_cv['storetime'].nunique() )\n",
        "print(\"cgid:\", df_inputevents_cv['cgid'].nunique() )\n",
        "print(\"orderid:\", df_inputevents_cv['orderid'].nunique() )\n",
        "print(\"linkorderid:\", df_inputevents_cv['linkorderid'].nunique() )\n",
        "print(\"stopped:\", df_inputevents_cv['stopped'].nunique() )\n",
        "print(\"newbottle:\", df_inputevents_cv['newbottle'].nunique() )\n",
        "print(\"originalamount:\", df_inputevents_cv['originalamount'].nunique() )\n",
        "print(\"originalamountuom:\", df_inputevents_cv['originalamountuom'].nunique() )\n",
        "print(\"originalroute:\", df_inputevents_cv['originalroute'].nunique() )\n",
        "print(\"originalrate:\", df_inputevents_cv['originalrate'].nunique() )\n",
        "print(\"originalrateuom:\", df_inputevents_cv['originalrateuom'].nunique() )\n",
        "print(\"originalsite:\", df_inputevents_cv['originalsite'].nunique() )"
      ],
      "metadata": {
        "colab": {
          "base_uri": "https://localhost:8080/"
        },
        "id": "SS5NhkbcHVkU",
        "outputId": "bce47599-d43b-4601-ba09-0b057dd9aa14"
      },
      "execution_count": 26,
      "outputs": [
        {
          "output_type": "stream",
          "name": "stdout",
          "text": [
            "Valores únicos por cada columna: \n",
            "\n",
            "row_id: 34799\n",
            "subject_id: 48\n",
            "hadm_id: 55\n",
            "icustay_id: 57\n",
            "charttime: 6913\n",
            "itemid: 79\n",
            "amount: 1686\n",
            "amountuom: 5\n",
            "rate: 292\n",
            "rateuom: 8\n",
            "storetime: 6743\n",
            "cgid: 272\n",
            "orderid: 18077\n",
            "linkorderid: 621\n",
            "stopped: 4\n",
            "newbottle: 1\n",
            "originalamount: 41\n",
            "originalamountuom: 8\n",
            "originalroute: 7\n",
            "originalrate: 82\n",
            "originalrateuom: 1\n",
            "originalsite: 1\n"
          ]
        }
      ]
    },
    {
      "cell_type": "code",
      "source": [
        "df_inputevents_cv['rateuom'].unique()"
      ],
      "metadata": {
        "colab": {
          "base_uri": "https://localhost:8080/"
        },
        "id": "7ft5zyYCKFjj",
        "outputId": "86ecba80-d132-492c-e6e4-ba9155aa1766"
      },
      "execution_count": 29,
      "outputs": [
        {
          "output_type": "execute_result",
          "data": {
            "text/plain": [
              "array([nan, 'mcgmin', 'mcgkgmin', 'Uhr', 'mghr', 'mgkghr', 'Umin',\n",
              "       'mcghr', 'mgmin'], dtype=object)"
            ]
          },
          "metadata": {},
          "execution_count": 29
        }
      ]
    },
    {
      "cell_type": "code",
      "source": [
        "df_inputevents_cv.info()  # Cant de registros, columnas, espacio en memoria, tipo de dato"
      ],
      "metadata": {
        "colab": {
          "base_uri": "https://localhost:8080/"
        },
        "id": "Rxz_JHDZtKvL",
        "outputId": "128e8130-81bc-4c1e-a71d-a3b0c6243555"
      },
      "execution_count": 29,
      "outputs": [
        {
          "output_type": "stream",
          "name": "stdout",
          "text": [
            "<class 'pandas.core.frame.DataFrame'>\n",
            "RangeIndex: 34799 entries, 0 to 34798\n",
            "Data columns (total 22 columns):\n",
            " #   Column             Non-Null Count  Dtype  \n",
            "---  ------             --------------  -----  \n",
            " 0   row_id             34799 non-null  int64  \n",
            " 1   subject_id         34799 non-null  int64  \n",
            " 2   hadm_id            34799 non-null  int64  \n",
            " 3   icustay_id         34799 non-null  int64  \n",
            " 4   charttime          34799 non-null  object \n",
            " 5   itemid             34799 non-null  int64  \n",
            " 6   amount             24738 non-null  float64\n",
            " 7   amountuom          25003 non-null  object \n",
            " 8   rate               9462 non-null   float64\n",
            " 9   rateuom            9548 non-null   object \n",
            " 10  storetime          34799 non-null  object \n",
            " 11  cgid               34258 non-null  float64\n",
            " 12  orderid            34799 non-null  int64  \n",
            " 13  linkorderid        34799 non-null  int64  \n",
            " 14  stopped            810 non-null    object \n",
            " 15  newbottle          522 non-null    float64\n",
            " 16  originalamount     21214 non-null  float64\n",
            " 17  originalamountuom  25234 non-null  object \n",
            " 18  originalroute      34782 non-null  object \n",
            " 19  originalrate       11511 non-null  float64\n",
            " 20  originalrateuom    11515 non-null  object \n",
            " 21  originalsite       6 non-null      object \n",
            "dtypes: float64(6), int64(7), object(9)\n",
            "memory usage: 5.8+ MB\n"
          ]
        }
      ]
    },
    {
      "cell_type": "code",
      "source": [
        "df_inputevents_cv.drop_duplicates(inplace=True)   # Eliminamos registros duplicados\n",
        "df_inputevents_cv.shape[0]"
      ],
      "metadata": {
        "colab": {
          "base_uri": "https://localhost:8080/"
        },
        "id": "nyPDf_TptR1m",
        "outputId": "6e8af8fe-0940-4ffe-f54e-7a498af6a398"
      },
      "execution_count": 30,
      "outputs": [
        {
          "output_type": "execute_result",
          "data": {
            "text/plain": [
              "34799"
            ]
          },
          "metadata": {},
          "execution_count": 30
        }
      ]
    },
    {
      "cell_type": "markdown",
      "source": [
        "No tenia registros duplicados"
      ],
      "metadata": {
        "id": "lP58ZO22tWne"
      }
    },
    {
      "cell_type": "code",
      "source": [
        "df_inputevents_cv.isna().sum()  # Valores nulos"
      ],
      "metadata": {
        "colab": {
          "base_uri": "https://localhost:8080/"
        },
        "id": "RGllniALtbQ7",
        "outputId": "df0a696c-ca0a-4c0e-db31-98c4647d901f"
      },
      "execution_count": 31,
      "outputs": [
        {
          "output_type": "execute_result",
          "data": {
            "text/plain": [
              "row_id                   0\n",
              "subject_id               0\n",
              "hadm_id                  0\n",
              "icustay_id               0\n",
              "charttime                0\n",
              "itemid                   0\n",
              "amount               10061\n",
              "amountuom             9796\n",
              "rate                 25337\n",
              "rateuom              25251\n",
              "storetime                0\n",
              "cgid                   541\n",
              "orderid                  0\n",
              "linkorderid              0\n",
              "stopped              33989\n",
              "newbottle            34277\n",
              "originalamount       13585\n",
              "originalamountuom     9565\n",
              "originalroute           17\n",
              "originalrate         23288\n",
              "originalrateuom      23284\n",
              "originalsite         34793\n",
              "dtype: int64"
            ]
          },
          "metadata": {},
          "execution_count": 31
        }
      ]
    },
    {
      "cell_type": "code",
      "source": [
        "msno.matrix(df_inputevents_cv)  # Valores nulos visto gráficamente"
      ],
      "metadata": {
        "colab": {
          "base_uri": "https://localhost:8080/",
          "height": 732
        },
        "id": "D7dAGU2jtiH6",
        "outputId": "6d6f538e-4fb4-4ca7-a790-95f033985153"
      },
      "execution_count": 32,
      "outputs": [
        {
          "output_type": "execute_result",
          "data": {
            "text/plain": [
              "<AxesSubplot:>"
            ]
          },
          "metadata": {},
          "execution_count": 32
        },
        {
          "output_type": "display_data",
          "data": {
            "text/plain": [
              "<Figure size 1800x720 with 2 Axes>"
            ],
            "image/png": "[encoded data removed]"
          },
          "metadata": {
            "needs_background": "light"
          }
        }
      ]
    },
    {
      "cell_type": "markdown",
      "source": [
        "### Valores nulos:"
      ],
      "metadata": {
        "id": "xBpX5zWcyqBw"
      }
    }
  ]
}