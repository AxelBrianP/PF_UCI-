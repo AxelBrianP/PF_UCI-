{
  "cells": [
    {
      "cell_type": "code",
      "execution_count": 11,
      "metadata": {},
      "outputs": [],
      "source": [
        "#Importamos Librerías\n",
        "import pandas as pd                             # Importamos Pandas\n",
        "from datetime import datetime                   # Iportar datetime\n",
        "# Ingreso hospitalario asociado a estancia en UCI\n",
        "ADMISSIONS= pd.read_csv('PF_UCI-/datasets/ADMISSIONS.csv')\n",
        "# Pacientes asociados con un ingreso en UCI\n",
        "PATIENTS= pd.read_csv('PF_UCI-/datasets/PATIENTS.csv')"
      ]
    },
    {
      "cell_type": "code",
      "execution_count": 33,
      "metadata": {},
      "outputs": [
        {
          "name": "stdout",
          "output_type": "stream",
          "text": [
            "(100, 19)\n",
            "(100, 8)\n",
            "(100, 26)\n"
          ]
        }
      ],
      "source": [
        "# Elimnar filas duplicados en base a los valores de una columna\n",
        "SD_PATIENTS=ADMISSIONS.copy()                                           # Generamos una copia\n",
        "SD_PATIENTS = SD_PATIENTS.drop_duplicates(subset=['subject_id'])        # Borramos duplicados\n",
        "print(SD_PATIENTS.shape)                                                # print shape\n",
        "print(PATIENTS.shape)                                                   # print shape\n",
        "NEW_PATIENTS = pd.merge(SD_PATIENTS, PATIENTS, on='subject_id')         # Unión de tablas de pacientes\n",
        "print(NEW_PATIENTS.shape)                                               # print shape"
      ]
    },
    {
      "cell_type": "code",
      "execution_count": 36,
      "metadata": {},
      "outputs": [],
      "source": [
        "# Borrar Columnas que se quedarán en la tabla Admisiones\n",
        "NEW_PATIENTS = NEW_PATIENTS.drop(['row_id_x', 'admittime', 'dischtime',\n",
        "       'deathtime', 'admission_type', 'admission_location',\n",
        "       'discharge_location', 'insurance', 'edregtime', 'edouttime', 'diagnosis',\n",
        "       'hospital_expire_flag', 'has_chartevents_data', 'row_id_y'], axis=1)"
      ]
    },
    {
      "cell_type": "code",
      "execution_count": 39,
      "metadata": {},
      "outputs": [],
      "source": [
        "# Borrar Columnas que se quedarán en la tabla Pacientes all\n",
        "NEW_ADMISSIONS=ADMISSIONS.copy()\n",
        "NEW_ADMISSIONS = NEW_ADMISSIONS.drop(['language', 'religion',\n",
        "       'marital_status', 'ethnicity'], axis=1)"
      ]
    },
    {
      "cell_type": "code",
      "execution_count": 41,
      "metadata": {},
      "outputs": [
        {
          "name": "stdout",
          "output_type": "stream",
          "text": [
            "(129, 19) ADMISSIONS\n",
            "(100, 8) PATIENTS\n",
            "(129, 15) NEW_ADMISSIONS\n",
            "(100, 12) NEW_PATIENTS\n"
          ]
        }
      ],
      "source": [
        "print(ADMISSIONS.shape,\"ADMISSIONS\")\n",
        "print(PATIENTS.shape,\"PATIENTS\")\n",
        "print(NEW_ADMISSIONS.shape,\"NEW_ADMISSIONS\")\n",
        "print(NEW_PATIENTS.shape,\"NEW_PATIENTS\")"
      ]
    },
    {
      "cell_type": "code",
      "execution_count": 42,
      "metadata": {},
      "outputs": [],
      "source": [
        "NEW_ADMISSIONS.to_csv('NEW_ADMISSIONS.csv', index=False)\n",
        "NEW_PATIENTS.to_csv('NEW_PATIENTS.csv', index=False)"
      ]
    }
  ],
  "metadata": {
    "colab": {
      "provenance": []
    },
    "kernelspec": {
      "display_name": "Python 3",
      "name": "python3"
    },
    "language_info": {
      "codemirror_mode": {
        "name": "ipython",
        "version": 3
      },
      "file_extension": ".py",
      "mimetype": "text/x-python",
      "name": "python",
      "nbconvert_exporter": "python",
      "pygments_lexer": "ipython3",
      "version": "3.10.7"
    }
  },
  "nbformat": 4,
  "nbformat_minor": 0
}
