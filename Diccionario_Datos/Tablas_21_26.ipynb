{
 "cells": [
  {
   "cell_type": "code",
   "execution_count": 5,
   "metadata": {},
   "outputs": [],
   "source": [
    "import pandas as pd\n"
   ]
  },
  {
   "attachments": {},
   "cell_type": "markdown",
   "metadata": {},
   "source": [
    "tabla"
   ]
  },
  {
   "cell_type": "code",
   "execution_count": 6,
   "metadata": {},
   "outputs": [
    {
     "data": {
      "text/html": [
       "<div>\n",
       "<style scoped>\n",
       "    .dataframe tbody tr th:only-of-type {\n",
       "        vertical-align: middle;\n",
       "    }\n",
       "\n",
       "    .dataframe tbody tr th {\n",
       "        vertical-align: top;\n",
       "    }\n",
       "\n",
       "    .dataframe thead th {\n",
       "        text-align: right;\n",
       "    }\n",
       "</style>\n",
       "<table border=\"1\" class=\"dataframe\">\n",
       "  <thead>\n",
       "    <tr style=\"text-align: right;\">\n",
       "      <th></th>\n",
       "      <th>row_id</th>\n",
       "      <th>icd9_code</th>\n",
       "      <th>short_title</th>\n",
       "      <th>long_title</th>\n",
       "    </tr>\n",
       "  </thead>\n",
       "  <tbody>\n",
       "    <tr>\n",
       "      <th>0</th>\n",
       "      <td>1</td>\n",
       "      <td>01716</td>\n",
       "      <td>Erythem nod tb-oth test</td>\n",
       "      <td>Erythema nodosum with hypersensitivity reactio...</td>\n",
       "    </tr>\n",
       "    <tr>\n",
       "      <th>1</th>\n",
       "      <td>2</td>\n",
       "      <td>01720</td>\n",
       "      <td>TB periph lymph-unspec</td>\n",
       "      <td>Tuberculosis of peripheral lymph nodes, unspec...</td>\n",
       "    </tr>\n",
       "    <tr>\n",
       "      <th>2</th>\n",
       "      <td>3</td>\n",
       "      <td>01721</td>\n",
       "      <td>TB periph lymph-no exam</td>\n",
       "      <td>Tuberculosis of peripheral lymph nodes, bacter...</td>\n",
       "    </tr>\n",
       "    <tr>\n",
       "      <th>3</th>\n",
       "      <td>4</td>\n",
       "      <td>01722</td>\n",
       "      <td>TB periph lymph-exam unk</td>\n",
       "      <td>Tuberculosis of peripheral lymph nodes, bacter...</td>\n",
       "    </tr>\n",
       "    <tr>\n",
       "      <th>4</th>\n",
       "      <td>5</td>\n",
       "      <td>01723</td>\n",
       "      <td>TB periph lymph-micro dx</td>\n",
       "      <td>Tuberculosis of peripheral lymph nodes, tuberc...</td>\n",
       "    </tr>\n",
       "    <tr>\n",
       "      <th>...</th>\n",
       "      <td>...</td>\n",
       "      <td>...</td>\n",
       "      <td>...</td>\n",
       "      <td>...</td>\n",
       "    </tr>\n",
       "    <tr>\n",
       "      <th>14562</th>\n",
       "      <td>14563</td>\n",
       "      <td>V8712</td>\n",
       "      <td>Contact/exposure benzene</td>\n",
       "      <td>Contact with and (suspected) exposure to benzene</td>\n",
       "    </tr>\n",
       "    <tr>\n",
       "      <th>14563</th>\n",
       "      <td>14564</td>\n",
       "      <td>V8719</td>\n",
       "      <td>Cont/exp haz aromat NEC</td>\n",
       "      <td>Contact with and (suspected) exposure to other...</td>\n",
       "    </tr>\n",
       "    <tr>\n",
       "      <th>14564</th>\n",
       "      <td>14565</td>\n",
       "      <td>V872</td>\n",
       "      <td>Cont/exp hazard chem NEC</td>\n",
       "      <td>Contact with and (suspected) exposure to other...</td>\n",
       "    </tr>\n",
       "    <tr>\n",
       "      <th>14565</th>\n",
       "      <td>14566</td>\n",
       "      <td>V8731</td>\n",
       "      <td>Contact/exposure mold</td>\n",
       "      <td>Contact with and (suspected) exposure to mold</td>\n",
       "    </tr>\n",
       "    <tr>\n",
       "      <th>14566</th>\n",
       "      <td>14567</td>\n",
       "      <td>V8732</td>\n",
       "      <td>Contact/exp algae bloom</td>\n",
       "      <td>Contact with and (suspected) exposure to algae...</td>\n",
       "    </tr>\n",
       "  </tbody>\n",
       "</table>\n",
       "<p>14567 rows × 4 columns</p>\n",
       "</div>"
      ],
      "text/plain": [
       "       row_id icd9_code               short_title  \\\n",
       "0           1     01716   Erythem nod tb-oth test   \n",
       "1           2     01720    TB periph lymph-unspec   \n",
       "2           3     01721   TB periph lymph-no exam   \n",
       "3           4     01722  TB periph lymph-exam unk   \n",
       "4           5     01723  TB periph lymph-micro dx   \n",
       "...       ...       ...                       ...   \n",
       "14562   14563     V8712  Contact/exposure benzene   \n",
       "14563   14564     V8719   Cont/exp haz aromat NEC   \n",
       "14564   14565      V872  Cont/exp hazard chem NEC   \n",
       "14565   14566     V8731     Contact/exposure mold   \n",
       "14566   14567     V8732   Contact/exp algae bloom   \n",
       "\n",
       "                                              long_title  \n",
       "0      Erythema nodosum with hypersensitivity reactio...  \n",
       "1      Tuberculosis of peripheral lymph nodes, unspec...  \n",
       "2      Tuberculosis of peripheral lymph nodes, bacter...  \n",
       "3      Tuberculosis of peripheral lymph nodes, bacter...  \n",
       "4      Tuberculosis of peripheral lymph nodes, tuberc...  \n",
       "...                                                  ...  \n",
       "14562   Contact with and (suspected) exposure to benzene  \n",
       "14563  Contact with and (suspected) exposure to other...  \n",
       "14564  Contact with and (suspected) exposure to other...  \n",
       "14565      Contact with and (suspected) exposure to mold  \n",
       "14566  Contact with and (suspected) exposure to algae...  \n",
       "\n",
       "[14567 rows x 4 columns]"
      ]
     },
     "execution_count": 6,
     "metadata": {},
     "output_type": "execute_result"
    }
   ],
   "source": [
    "D_ICD_DIAGNOSES=pd.read_csv(r'https://raw.githubusercontent.com/espadaone/PF_UCI-/main/datasets/D_ICD_DIAGNOSES.csv',sep=\",\")\n",
    "D_ICD_DIAGNOSES #Diagnosticos y abreviados"
   ]
  },
  {
   "cell_type": "code",
   "execution_count": 7,
   "metadata": {},
   "outputs": [
    {
     "name": "stdout",
     "output_type": "stream",
     "text": [
      "<class 'pandas.core.frame.DataFrame'>\n",
      "RangeIndex: 14567 entries, 0 to 14566\n",
      "Data columns (total 4 columns):\n",
      " #   Column       Non-Null Count  Dtype \n",
      "---  ------       --------------  ----- \n",
      " 0   row_id       14567 non-null  int64 \n",
      " 1   icd9_code    14567 non-null  object\n",
      " 2   short_title  14567 non-null  object\n",
      " 3   long_title   14567 non-null  object\n",
      "dtypes: int64(1), object(3)\n",
      "memory usage: 455.3+ KB\n"
     ]
    }
   ],
   "source": [
    "D_ICD_DIAGNOSES.info()"
   ]
  },
  {
   "cell_type": "code",
   "execution_count": 8,
   "metadata": {},
   "outputs": [
    {
     "data": {
      "text/plain": [
       "['row_id', 'icd9_code', 'short_title', 'long_title']"
      ]
     },
     "execution_count": 8,
     "metadata": {},
     "output_type": "execute_result"
    }
   ],
   "source": [
    "D_ICD_DIAGNOSES_names = list(D_ICD_DIAGNOSES.columns.values)\n",
    "D_ICD_DIAGNOSES_names"
   ]
  },
  {
   "cell_type": "code",
   "execution_count": 9,
   "metadata": {},
   "outputs": [],
   "source": [
    "# Descripcion de columnas\n",
    "D_ICD_DIAGNOSES_descripcion = ['identificador de fila','clasificación para describir enfermedades, lesiones y afecciones médicas ','titulo corto','titulo largo']"
   ]
  },
  {
   "cell_type": "code",
   "execution_count": 10,
   "metadata": {},
   "outputs": [],
   "source": [
    "# Unimos la lista con nombres de columnas y la descripcion de cada columna\n",
    "D_ICD_DIAGNOSES_completo= dict(zip(D_ICD_DIAGNOSES_names,D_ICD_DIAGNOSES_descripcion))\n",
    "# Creamos el df\n",
    "D_ICD_DIAGNOSES_columnas = pd.DataFrame([[key, D_ICD_DIAGNOSES_completo[key]] for key in D_ICD_DIAGNOSES_completo.keys()], columns=['Name', 'Descripcion'])\n",
    "# Tipo de dato de cada columna\n",
    "D_ICD_DIAGNOSES_dtype = ['int','int','O','O']\n",
    "# Agregamos el tipo de dato\n",
    "D_ICD_DIAGNOSES_columnas['Dtype'] = D_ICD_DIAGNOSES_dtype\n",
    "# Agregamos nombre de columna\n",
    "D_ICD_DIAGNOSES_columnas['tabla'] = 'D_ICD_DIAGNOSES'"
   ]
  },
  {
   "cell_type": "code",
   "execution_count": 11,
   "metadata": {},
   "outputs": [
    {
     "data": {
      "text/html": [
       "<div>\n",
       "<style scoped>\n",
       "    .dataframe tbody tr th:only-of-type {\n",
       "        vertical-align: middle;\n",
       "    }\n",
       "\n",
       "    .dataframe tbody tr th {\n",
       "        vertical-align: top;\n",
       "    }\n",
       "\n",
       "    .dataframe thead th {\n",
       "        text-align: right;\n",
       "    }\n",
       "</style>\n",
       "<table border=\"1\" class=\"dataframe\">\n",
       "  <thead>\n",
       "    <tr style=\"text-align: right;\">\n",
       "      <th></th>\n",
       "      <th>Name</th>\n",
       "      <th>Descripcion</th>\n",
       "      <th>Dtype</th>\n",
       "      <th>tabla</th>\n",
       "    </tr>\n",
       "  </thead>\n",
       "  <tbody>\n",
       "    <tr>\n",
       "      <th>0</th>\n",
       "      <td>row_id</td>\n",
       "      <td>identificador de fila</td>\n",
       "      <td>int</td>\n",
       "      <td>D_ICD_DIAGNOSES</td>\n",
       "    </tr>\n",
       "    <tr>\n",
       "      <th>1</th>\n",
       "      <td>icd9_code</td>\n",
       "      <td>clasificación para describir enfermedades, les...</td>\n",
       "      <td>int</td>\n",
       "      <td>D_ICD_DIAGNOSES</td>\n",
       "    </tr>\n",
       "    <tr>\n",
       "      <th>2</th>\n",
       "      <td>short_title</td>\n",
       "      <td>titulo corto</td>\n",
       "      <td>O</td>\n",
       "      <td>D_ICD_DIAGNOSES</td>\n",
       "    </tr>\n",
       "    <tr>\n",
       "      <th>3</th>\n",
       "      <td>long_title</td>\n",
       "      <td>titulo largo</td>\n",
       "      <td>O</td>\n",
       "      <td>D_ICD_DIAGNOSES</td>\n",
       "    </tr>\n",
       "  </tbody>\n",
       "</table>\n",
       "</div>"
      ],
      "text/plain": [
       "          Name                                        Descripcion Dtype  \\\n",
       "0       row_id                              identificador de fila   int   \n",
       "1    icd9_code  clasificación para describir enfermedades, les...   int   \n",
       "2  short_title                                       titulo corto     O   \n",
       "3   long_title                                       titulo largo     O   \n",
       "\n",
       "             tabla  \n",
       "0  D_ICD_DIAGNOSES  \n",
       "1  D_ICD_DIAGNOSES  \n",
       "2  D_ICD_DIAGNOSES  \n",
       "3  D_ICD_DIAGNOSES  "
      ]
     },
     "execution_count": 11,
     "metadata": {},
     "output_type": "execute_result"
    }
   ],
   "source": [
    "D_ICD_DIAGNOSES_columnas"
   ]
  }
 ],
 "metadata": {
  "kernelspec": {
   "display_name": "Python 3",
   "language": "python",
   "name": "python3"
  },
  "language_info": {
   "codemirror_mode": {
    "name": "ipython",
    "version": 3
   },
   "file_extension": ".py",
   "mimetype": "text/x-python",
   "name": "python",
   "nbconvert_exporter": "python",
   "pygments_lexer": "ipython3",
   "version": "3.11.0"
  },
  "orig_nbformat": 4
 },
 "nbformat": 4,
 "nbformat_minor": 2
}
