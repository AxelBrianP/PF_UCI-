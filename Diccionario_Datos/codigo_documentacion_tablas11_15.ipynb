{
 "cells": [
  {
   "cell_type": "code",
   "execution_count": 1,
   "id": "eac50bf7",
   "metadata": {},
   "outputs": [],
   "source": [
    "import pandas as pd"
   ]
  },
  {
   "cell_type": "code",
   "execution_count": 2,
   "id": "95d74fe0",
   "metadata": {},
   "outputs": [],
   "source": [
    "inputevents = pd.read_csv(\"https://raw.githubusercontent.com/espadaone/PF_UCI-/main/datasets/INPUTEVENTS_MV.csv\")\n"
   ]
  },
  {
   "cell_type": "code",
   "execution_count": 3,
   "id": "1f59e143",
   "metadata": {},
   "outputs": [],
   "source": [
    "outputevents = pd.read_csv(\"https://raw.githubusercontent.com/espadaone/PF_UCI-/main/datasets/OUTPUTEVENTS.csv\")\n"
   ]
  },
  {
   "cell_type": "code",
   "execution_count": 4,
   "id": "d26ab359",
   "metadata": {},
   "outputs": [],
   "source": [
    "procedureevents_mv = pd.read_csv(\"https://raw.githubusercontent.com/espadaone/PF_UCI-/main/datasets/PROCEDUREEVENTS_MV.csv\")"
   ]
  },
  {
   "cell_type": "code",
   "execution_count": 5,
   "id": "f2efc96a",
   "metadata": {},
   "outputs": [],
   "source": [
    "noteevents = pd.read_csv(r\"C:\\Users\\aleja\\OneDrive\\Escritorio\\PF_UCI-\\datasets\\NOTEEVENTS.csv\")"
   ]
  },
  {
   "cell_type": "code",
   "execution_count": 6,
   "id": "c08d7b53",
   "metadata": {},
   "outputs": [],
   "source": [
    "cpevents = pd.read_csv(r\"C:\\Users\\aleja\\OneDrive\\Escritorio\\PF_UCI-\\datasets\\CPTEVENTS.csv\")"
   ]
  },
  {
   "cell_type": "code",
   "execution_count": 88,
   "id": "231c0123",
   "metadata": {
    "scrolled": true
   },
   "outputs": [],
   "source": [
    "def generar_listas(df):\n",
    "    columnas = list(df.columns)\n",
    "    lista = []\n",
    "    for columna in columnas:\n",
    "        if df[columna].size == 0:\n",
    "            dato = \"NO DATA\"\n",
    "        else:\n",
    "            dato = str(df[columna].dtype)\n",
    "        lista.append(dato)\n",
    "    return columnas, lista"
   ]
  },
  {
   "cell_type": "code",
   "execution_count": 125,
   "id": "a888311e",
   "metadata": {},
   "outputs": [],
   "source": [
    "nombre_columnas1, tipo_dato1 = generar_listas(inputevents)\n",
    "nombre_columnas2, tipo_dato2= generar_listas(outputevents)\n",
    "nombre_columnas3, tipo_dato3 = generar_listas(noteevents)\n",
    "nombre_columnas4, tipo_dato4 = generar_listas(cpevents)\n",
    "nombre_columnas5, tipo_dato5 = generar_listas(procedureevents_mv)"
   ]
  },
  {
   "cell_type": "code",
   "execution_count": 113,
   "id": "654c1bf7",
   "metadata": {},
   "outputs": [],
   "source": [
    "# Descripcion para Imputevents_mv\n",
    "descripcion1 = [\"Identificador de linea\",\n",
    "               \"Identificador para los pacientes\",\n",
    "               \"Identificador para las admiciones\",\n",
    "               \"Identificador de estancia\",\n",
    "               \"Tiempo de inicio del evento\",\n",
    "               \"Tiempo de fin del evento\",\n",
    "               \"Identificador de item\",\n",
    "               \"Cantidad del item suministrada al paciente\",\n",
    "               \"Unidad de medida de la cantidad\",\n",
    "               \"Velocidad a la que se suministra el item al paciente\",\n",
    "               \"Unidad de medida de la velocidad\",\n",
    "               \"Tiempo en que se registro el evento en el sistema\",\n",
    "               \"Identificador del cuidador\",\n",
    "               \"Identificador que vincula elementos que se agrupan en una solucion\",\n",
    "               \"Identificador que vincula pedidos a traves de multiples administraciones\",\n",
    "               \"Grupo al que corresponde el item\",\n",
    "               \"Grupo secondario para aquellos items con mas de una agrupacion\",\n",
    "               \"La funcion del item administrado\",\n",
    "               \"Tipo de item administrado\",\n",
    "               \"Peso del paciente para el calculo de la medicacion\",\n",
    "               \"Cantidad total en la solucion para el articulo dado\",\n",
    "               \"Unidad de medida para la cantidad total del item\",\n",
    "               \"Indica si la bolsa que contiene la solucion esta abierta\",\n",
    "               \"Indica si el item continuara o si se transfiere\",\n",
    "               \"Razon de cancelacion\",\n",
    "               \"Estado actual del pedido: Detenido, Reescrito, en ejecucion, cancelado\",\n",
    "               \"Titulo del cuidador que edito la orden\",\n",
    "               \"Titulo del cuidador que cancelo la orden\",\n",
    "               \"Hora en que el cuidador cancelo o edito la orden\",\n",
    "               \"Cantidad del item que se registro originalmente\",\n",
    "               \"Velocidad elegida originalmente para el item\"]"
   ]
  },
  {
   "cell_type": "code",
   "execution_count": 117,
   "id": "2415bfae",
   "metadata": {},
   "outputs": [],
   "source": [
    "#Descripcion outputevents\n",
    "descripcion2 = [\"Identificador unico de linea\",\n",
    "               \"Identificador para los pacientes\",\n",
    "               \"Identificador para las admiciones\",\n",
    "               \"Identificador de estancia\",\n",
    "               \"Hora de un evento de salida\",\n",
    "               \"Identificador de item\",\n",
    "               \"La cantidad de sustancia en CHARTTIME\",\n",
    "               \"Unidad de medida de la sustancia\",\n",
    "               \"Hora en que se registro el evento en sistema\",\n",
    "               \"Identificador del cuidador\",\n",
    "               \"Indica si el pedido se detuvo en CHARTTIME dado\",\n",
    "               \"Indica que se colgo una nueva bolsa de solucion en CHARTTIME determinado\",\n",
    "               \"En Metavision, indicador de checkbox para un error de observacion\"]"
   ]
  },
  {
   "cell_type": "code",
   "execution_count": 119,
   "id": "bbf77695",
   "metadata": {},
   "outputs": [],
   "source": [
    "# Descripcion noteevents\n",
    "descripcion3 = [\"Identificador unico de linea\",\n",
    "               \"Identificador para los pacientes\",\n",
    "               \"Identificador para las admiciones\",\n",
    "               \"Fecha en que se hizo la nota\",\n",
    "               \"Fecha y hora en que se trazo la nota\",\n",
    "               \"Hora en que se registro el evento en el sistema\",\n",
    "               \"Categoria de la nota\",\n",
    "               \"Categorizacion mas detallada de la nota\",\n",
    "               \"Identificador del cuidador\",\n",
    "               \"Marca para resaltar un error con la nota\",\n",
    "               \"Contenido de la nota\"]"
   ]
  },
  {
   "cell_type": "code",
   "execution_count": 121,
   "id": "9ecaeaa5",
   "metadata": {},
   "outputs": [],
   "source": [
    "# Descripcion ctpevents\n",
    "descripcion4 = [\"Identificador unico de linea\",\n",
    "               \"Identificador para los pacientes\",\n",
    "               \"Identificador para las admiciones\",\n",
    "               \"Centro que registra el codigo[ejemplo: UCI o unidad respiratoria]\",\n",
    "               \"Fecha en que ocurrio el evento\",\n",
    "               \"algun codigo\",\n",
    "               \"Codigo de terminologia procesal actual\",\n",
    "               \"Elemento del texto del codigo CPT, indica la categoria del codigo\",\n",
    "               \"Numero de secuencia del evento, derivado de la identificacion del boleto\",\n",
    "               \"Seccion de alto nivel del codigo CPT\",\n",
    "               \"Subseccion del codigo CPT\",\n",
    "               \"Descripcion de la terminologia Procesal actual\"]"
   ]
  },
  {
   "cell_type": "code",
   "execution_count": 123,
   "id": "074c1b71",
   "metadata": {},
   "outputs": [],
   "source": [
    "#Descripcion procedureevents_mv\n",
    "descripcion5 = [\"Identificador de linea\",\n",
    "               \"Identificador para los pacientes\",\n",
    "               \"Identificador para las admiciones\",\n",
    "               \"Identificador de estancia\",\n",
    "               \"Hora de inicio del evento\",\n",
    "               \"Hora de termino del evento\",\n",
    "               \"Identificador del item\",\n",
    "               \"Valor del evento\",\n",
    "               \"Unidad de medida\",\n",
    "               \"Localizacion del malestar\",\n",
    "               \"Tiempo en que se regisstro el evento en sistema\",\n",
    "               \"Identificador del cuidador\",\n",
    "               \"Identificador que vincula elementos que se agrupan en una solucion\",\n",
    "               \"Identificador que vincula pedidos a traves de multiples administraciones\",\n",
    "               \"Grupo al que corresponde el item\",\n",
    "               \"Grupo secondario para aquellos items con mas de una agrupacion\",\n",
    "               \"La funcion del item administrado\",\n",
    "               \"Tipo de item administrado\"\n",
    "               \"Subcategoria de la localizacion del malestar\",\n",
    "               \"Indica si la bolsa que contiene la solucion esta abierta\",\n",
    "               \"Indica si el item continuara o si se transfiere\",\n",
    "               \"Razon de cancelacion\",\n",
    "               \"Estado actual del pedido: Detenido, Reescrito, en ejecucion, cancelado\",\n",
    "               \"Titulo del cuidador que edito la orden\",\n",
    "               \"Titulo del cuidador que cancelo la orden\",\n",
    "               \"Hora en que el cuidador cancelo o edito la orden\"]"
   ]
  },
  {
   "cell_type": "code",
   "execution_count": 126,
   "id": "44b1ca55",
   "metadata": {},
   "outputs": [],
   "source": [
    "tabla1 = pd.DataFrame(data={\"Name\":nombre_columnas1,\"Descripcion\":descripcion1,\"Dtype\":tipo_dato1})\n",
    "tabla1[\"Tabla\"] = \"INPUTEVENTS_MV\"\n",
    "tabla2 = pd.DataFrame(data={\"Name\":nombre_columnas2,\"Descripcion\":descripcion2,\"Dtype\":tipo_dato2})\n",
    "tabla2[\"Tabla\"] = \"OUTPUTEVENTS\"\n",
    "tabla3 = pd.DataFrame(data={\"Name\":nombre_columnas3,\"Descripcion\":descripcion3,\"Dtype\":tipo_dato3})\n",
    "tabla3[\"Tabla\"] = \"NOTEEVENTS\"\n",
    "tabla4 = pd.DataFrame(data={\"Name\":nombre_columnas4,\"Descripcion\":descripcion4,\"Dtype\":tipo_dato4})\n",
    "tabla4[\"Tabla\"] = \"CPTEVENTS\"\n",
    "tabla5 = pd.DataFrame(data={\"Name\":nombre_columnas5,\"Descripcion\":descripcion5,\"Dtype\":tipo_dato5})\n",
    "tabla5[\"Tabla\"] = \"PROCEDUREEVENTS_MV\""
   ]
  },
  {
   "cell_type": "code",
   "execution_count": 134,
   "id": "c3357aa3",
   "metadata": {},
   "outputs": [],
   "source": [
    "tabla1.to_csv(\"Diccionario_INPUTEVENTS.csv\", index=False)\n",
    "tabla2.to_csv(\"Diccionario_OUTPUTEVENTS.csv\", index=False)\n",
    "tabla3.to_csv(\"Diccionario_NOTEEVENTS.csv\", index=False)\n",
    "tabla4.to_csv(\"Diccionario_CPTEVENTS.csv\", index=False)\n",
    "tabla5.to_csv(\"Diccionario_PROCEDUREEVENTS_MV.csv\", index=False)"
   ]
  }
 ],
 "metadata": {
  "kernelspec": {
   "display_name": "Python 3 (ipykernel)",
   "language": "python",
   "name": "python3"
  },
  "language_info": {
   "codemirror_mode": {
    "name": "ipython",
    "version": 3
   },
   "file_extension": ".py",
   "mimetype": "text/x-python",
   "name": "python",
   "nbconvert_exporter": "python",
   "pygments_lexer": "ipython3",
   "version": "3.9.13"
  },
  "toc": {
   "base_numbering": 1,
   "nav_menu": {},
   "number_sections": true,
   "sideBar": true,
   "skip_h1_title": false,
   "title_cell": "Table of Contents",
   "title_sidebar": "Contents",
   "toc_cell": false,
   "toc_position": {},
   "toc_section_display": true,
   "toc_window_display": false
  },
  "varInspector": {
   "cols": {
    "lenName": 16,
    "lenType": 16,
    "lenVar": 40
   },
   "kernels_config": {
    "python": {
     "delete_cmd_postfix": "",
     "delete_cmd_prefix": "del ",
     "library": "var_list.py",
     "varRefreshCmd": "print(var_dic_list())"
    },
    "r": {
     "delete_cmd_postfix": ") ",
     "delete_cmd_prefix": "rm(",
     "library": "var_list.r",
     "varRefreshCmd": "cat(var_dic_list()) "
    }
   },
   "types_to_exclude": [
    "module",
    "function",
    "builtin_function_or_method",
    "instance",
    "_Feature"
   ],
   "window_display": false
  }
 },
 "nbformat": 4,
 "nbformat_minor": 5
}
